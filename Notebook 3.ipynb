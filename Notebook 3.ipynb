{
 "cells": [
  {
   "cell_type": "code",
   "execution_count": 1,
   "id": "61265969",
   "metadata": {},
   "outputs": [
    {
     "name": "stderr",
     "output_type": "stream",
     "text": [
      "C:\\ProgramData\\Anaconda3\\lib\\site-packages\\cupy\\_environment.py:213: UserWarning: CUDA path could not be detected. Set CUDA_PATH environment variable if CuPy fails to load.\n",
      "  warnings.warn(\n"
     ]
    }
   ],
   "source": [
    "import numpy as np, pandas as pd\n",
    "\n",
    "%matplotlib inline\n",
    "\n",
    "import matplotlib.pyplot as plt\n",
    "plt.style.use('bmh')\n",
    "import seaborn as sns\n",
    "\n",
    "import lightgbm as lgb\n",
    "\n",
    "import gc\n",
    "\n",
    "from sklearn.model_selection import train_test_split\n",
    "from sklearn.model_selection import KFold\n",
    "from sklearn.metrics import roc_auc_score\n",
    "from sklearn.preprocessing import LabelEncoder"
   ]
  },
  {
   "cell_type": "markdown",
   "id": "ac7133f4",
   "metadata": {},
   "source": [
    "# 9 Preparing Datasets for Modeling"
   ]
  },
  {
   "cell_type": "markdown",
   "id": "14a62233",
   "metadata": {},
   "source": [
    "### 9.1 Merging New Features"
   ]
  },
  {
   "cell_type": "code",
   "execution_count": 2,
   "id": "39ff3531",
   "metadata": {},
   "outputs": [],
   "source": [
    "train_bureau = pd.read_csv('train_1.csv')\n",
    "test_bureau = pd.read_csv('test_1.csv')\n",
    "\n",
    "train_previous = pd.read_csv('train_2.csv')\n",
    "test_previous = pd.read_csv('test_2.csv')"
   ]
  },
  {
   "cell_type": "code",
   "execution_count": 3,
   "id": "1bf80d6d",
   "metadata": {},
   "outputs": [
    {
     "name": "stdout",
     "output_type": "stream",
     "text": [
      "(307511, 333)\n",
      "(307511, 1125)\n"
     ]
    }
   ],
   "source": [
    "print(train_bureau.shape)\n",
    "print(train_previous.shape)"
   ]
  },
  {
   "cell_type": "code",
   "execution_count": 4,
   "id": "4e04368b",
   "metadata": {},
   "outputs": [
    {
     "name": "stdout",
     "output_type": "stream",
     "text": [
      "There are 122 original features.\n",
      "There are 211 bureau and bureau balance features.\n",
      "There are 1003 previous Home Credit loan features.\n"
     ]
    }
   ],
   "source": [
    "bureau_cols = list(train_bureau.columns)\n",
    "previous_cols = list(train_previous.columns)\n",
    "\n",
    "bureau_feats = list(set(bureau_cols) - set(previous_cols))\n",
    "previous_feats = list(set(previous_cols) - set(bureau_cols))\n",
    "original_feats = list(set(previous_cols) & set(bureau_cols))\n",
    "\n",
    "print('There are %d original features.' % len(original_feats))\n",
    "print('There are %d bureau and bureau balance features.' % len(bureau_feats))\n",
    "print('There are %d previous Home Credit loan features.' % len(previous_feats))"
   ]
  },
  {
   "cell_type": "code",
   "execution_count": 5,
   "id": "b82f5a30",
   "metadata": {},
   "outputs": [
    {
     "name": "stdout",
     "output_type": "stream",
     "text": [
      "(307511, 1336)\n",
      "(48744, 1335)\n"
     ]
    }
   ],
   "source": [
    "train_labels = train_bureau['TARGET']\n",
    "previous_feats.append('SK_ID_CURR')\n",
    "\n",
    "train_ids = train_bureau['SK_ID_CURR']\n",
    "test_ids = test_bureau['SK_ID_CURR']\n",
    "\n",
    "train = train_bureau.merge(train_previous[previous_feats], on = 'SK_ID_CURR')\n",
    "test = test_bureau.merge(test_previous[previous_feats], on = 'SK_ID_CURR')\n",
    "\n",
    "print(train.shape)\n",
    "print(test.shape)"
   ]
  },
  {
   "cell_type": "code",
   "execution_count": 6,
   "id": "2ccd5f43",
   "metadata": {},
   "outputs": [
    {
     "name": "stdout",
     "output_type": "stream",
     "text": [
      "(307511, 1456)\n",
      "(48744, 1456)\n"
     ]
    }
   ],
   "source": [
    "train = pd.get_dummies(train)\n",
    "test = pd.get_dummies(test)\n",
    "\n",
    "train, test = train.align(test, join = 'inner', axis = 1)\n",
    "print(train.shape)\n",
    "print(test.shape)\n"
   ]
  },
  {
   "cell_type": "code",
   "execution_count": 7,
   "id": "4713bdc7",
   "metadata": {},
   "outputs": [],
   "source": [
    "cols_with_id = [x for x in train.columns if 'SK_ID_CURR' in x]\n",
    "train = train.drop(columns = cols_with_id)\n",
    "test = test.drop(columns = cols_with_id)"
   ]
  },
  {
   "cell_type": "markdown",
   "id": "4e4d32d8",
   "metadata": {},
   "source": [
    "### 9.2 Removing Collinear Variables"
   ]
  },
  {
   "cell_type": "code",
   "execution_count": 8,
   "id": "b450e137",
   "metadata": {},
   "outputs": [
    {
     "data": {
      "text/html": [
       "<div>\n",
       "<style scoped>\n",
       "    .dataframe tbody tr th:only-of-type {\n",
       "        vertical-align: middle;\n",
       "    }\n",
       "\n",
       "    .dataframe tbody tr th {\n",
       "        vertical-align: top;\n",
       "    }\n",
       "\n",
       "    .dataframe thead th {\n",
       "        text-align: right;\n",
       "    }\n",
       "</style>\n",
       "<table border=\"1\" class=\"dataframe\">\n",
       "  <thead>\n",
       "    <tr style=\"text-align: right;\">\n",
       "      <th></th>\n",
       "      <th>CNT_CHILDREN</th>\n",
       "      <th>AMT_INCOME_TOTAL</th>\n",
       "      <th>AMT_CREDIT</th>\n",
       "      <th>AMT_ANNUITY</th>\n",
       "      <th>AMT_GOODS_PRICE</th>\n",
       "      <th>REGION_POPULATION_RELATIVE</th>\n",
       "      <th>DAYS_BIRTH</th>\n",
       "      <th>DAYS_EMPLOYED</th>\n",
       "      <th>DAYS_REGISTRATION</th>\n",
       "      <th>DAYS_ID_PUBLISH</th>\n",
       "      <th>...</th>\n",
       "      <th>HOUSETYPE_MODE_terraced house</th>\n",
       "      <th>WALLSMATERIAL_MODE_Block</th>\n",
       "      <th>WALLSMATERIAL_MODE_Mixed</th>\n",
       "      <th>WALLSMATERIAL_MODE_Monolithic</th>\n",
       "      <th>WALLSMATERIAL_MODE_Others</th>\n",
       "      <th>WALLSMATERIAL_MODE_Panel</th>\n",
       "      <th>WALLSMATERIAL_MODE_Stone, brick</th>\n",
       "      <th>WALLSMATERIAL_MODE_Wooden</th>\n",
       "      <th>EMERGENCYSTATE_MODE_No</th>\n",
       "      <th>EMERGENCYSTATE_MODE_Yes</th>\n",
       "    </tr>\n",
       "  </thead>\n",
       "  <tbody>\n",
       "    <tr>\n",
       "      <th>CNT_CHILDREN</th>\n",
       "      <td>1.000000</td>\n",
       "      <td>0.012882</td>\n",
       "      <td>0.002145</td>\n",
       "      <td>0.021374</td>\n",
       "      <td>0.001827</td>\n",
       "      <td>0.025573</td>\n",
       "      <td>0.330938</td>\n",
       "      <td>0.239818</td>\n",
       "      <td>0.183395</td>\n",
       "      <td>0.028019</td>\n",
       "      <td>...</td>\n",
       "      <td>0.001830</td>\n",
       "      <td>0.005272</td>\n",
       "      <td>0.000709</td>\n",
       "      <td>0.001607</td>\n",
       "      <td>0.002032</td>\n",
       "      <td>0.020892</td>\n",
       "      <td>0.025088</td>\n",
       "      <td>0.011036</td>\n",
       "      <td>0.038644</td>\n",
       "      <td>0.004525</td>\n",
       "    </tr>\n",
       "    <tr>\n",
       "      <th>AMT_INCOME_TOTAL</th>\n",
       "      <td>0.012882</td>\n",
       "      <td>1.000000</td>\n",
       "      <td>0.156870</td>\n",
       "      <td>0.191657</td>\n",
       "      <td>0.159610</td>\n",
       "      <td>0.074796</td>\n",
       "      <td>0.027261</td>\n",
       "      <td>0.064223</td>\n",
       "      <td>0.027805</td>\n",
       "      <td>0.008506</td>\n",
       "      <td>...</td>\n",
       "      <td>0.000718</td>\n",
       "      <td>0.011696</td>\n",
       "      <td>0.006149</td>\n",
       "      <td>0.023886</td>\n",
       "      <td>0.003886</td>\n",
       "      <td>0.032753</td>\n",
       "      <td>0.016523</td>\n",
       "      <td>0.003369</td>\n",
       "      <td>0.050174</td>\n",
       "      <td>0.002894</td>\n",
       "    </tr>\n",
       "    <tr>\n",
       "      <th>AMT_CREDIT</th>\n",
       "      <td>0.002145</td>\n",
       "      <td>0.156870</td>\n",
       "      <td>1.000000</td>\n",
       "      <td>0.770138</td>\n",
       "      <td>0.986968</td>\n",
       "      <td>0.099738</td>\n",
       "      <td>0.055436</td>\n",
       "      <td>0.066838</td>\n",
       "      <td>0.009621</td>\n",
       "      <td>0.006575</td>\n",
       "      <td>...</td>\n",
       "      <td>0.000869</td>\n",
       "      <td>0.014314</td>\n",
       "      <td>0.007987</td>\n",
       "      <td>0.027255</td>\n",
       "      <td>0.005799</td>\n",
       "      <td>0.046644</td>\n",
       "      <td>0.009756</td>\n",
       "      <td>0.007373</td>\n",
       "      <td>0.058256</td>\n",
       "      <td>0.004308</td>\n",
       "    </tr>\n",
       "    <tr>\n",
       "      <th>AMT_ANNUITY</th>\n",
       "      <td>0.021374</td>\n",
       "      <td>0.191657</td>\n",
       "      <td>0.770138</td>\n",
       "      <td>1.000000</td>\n",
       "      <td>0.775109</td>\n",
       "      <td>0.118429</td>\n",
       "      <td>0.009445</td>\n",
       "      <td>0.104332</td>\n",
       "      <td>0.038514</td>\n",
       "      <td>0.011268</td>\n",
       "      <td>...</td>\n",
       "      <td>0.002166</td>\n",
       "      <td>0.015589</td>\n",
       "      <td>0.010077</td>\n",
       "      <td>0.035318</td>\n",
       "      <td>0.005968</td>\n",
       "      <td>0.054988</td>\n",
       "      <td>0.009189</td>\n",
       "      <td>0.007711</td>\n",
       "      <td>0.068145</td>\n",
       "      <td>0.003910</td>\n",
       "    </tr>\n",
       "    <tr>\n",
       "      <th>AMT_GOODS_PRICE</th>\n",
       "      <td>0.001827</td>\n",
       "      <td>0.159610</td>\n",
       "      <td>0.986968</td>\n",
       "      <td>0.775109</td>\n",
       "      <td>1.000000</td>\n",
       "      <td>0.103520</td>\n",
       "      <td>0.053442</td>\n",
       "      <td>0.064842</td>\n",
       "      <td>0.011565</td>\n",
       "      <td>0.009267</td>\n",
       "      <td>...</td>\n",
       "      <td>0.000796</td>\n",
       "      <td>0.013696</td>\n",
       "      <td>0.009955</td>\n",
       "      <td>0.028315</td>\n",
       "      <td>0.005877</td>\n",
       "      <td>0.049759</td>\n",
       "      <td>0.012888</td>\n",
       "      <td>0.009135</td>\n",
       "      <td>0.062878</td>\n",
       "      <td>0.004848</td>\n",
       "    </tr>\n",
       "    <tr>\n",
       "      <th>...</th>\n",
       "      <td>...</td>\n",
       "      <td>...</td>\n",
       "      <td>...</td>\n",
       "      <td>...</td>\n",
       "      <td>...</td>\n",
       "      <td>...</td>\n",
       "      <td>...</td>\n",
       "      <td>...</td>\n",
       "      <td>...</td>\n",
       "      <td>...</td>\n",
       "      <td>...</td>\n",
       "      <td>...</td>\n",
       "      <td>...</td>\n",
       "      <td>...</td>\n",
       "      <td>...</td>\n",
       "      <td>...</td>\n",
       "      <td>...</td>\n",
       "      <td>...</td>\n",
       "      <td>...</td>\n",
       "      <td>...</td>\n",
       "      <td>...</td>\n",
       "    </tr>\n",
       "    <tr>\n",
       "      <th>WALLSMATERIAL_MODE_Panel</th>\n",
       "      <td>0.020892</td>\n",
       "      <td>0.032753</td>\n",
       "      <td>0.046644</td>\n",
       "      <td>0.054988</td>\n",
       "      <td>0.049759</td>\n",
       "      <td>0.092652</td>\n",
       "      <td>0.013597</td>\n",
       "      <td>0.004193</td>\n",
       "      <td>0.066690</td>\n",
       "      <td>0.015459</td>\n",
       "      <td>...</td>\n",
       "      <td>0.020005</td>\n",
       "      <td>0.092112</td>\n",
       "      <td>0.045358</td>\n",
       "      <td>0.039892</td>\n",
       "      <td>0.038117</td>\n",
       "      <td>1.000000</td>\n",
       "      <td>0.270257</td>\n",
       "      <td>0.069666</td>\n",
       "      <td>0.502903</td>\n",
       "      <td>0.039280</td>\n",
       "    </tr>\n",
       "    <tr>\n",
       "      <th>WALLSMATERIAL_MODE_Stone, brick</th>\n",
       "      <td>0.025088</td>\n",
       "      <td>0.016523</td>\n",
       "      <td>0.009756</td>\n",
       "      <td>0.009189</td>\n",
       "      <td>0.012888</td>\n",
       "      <td>0.010782</td>\n",
       "      <td>0.010964</td>\n",
       "      <td>0.006327</td>\n",
       "      <td>0.023389</td>\n",
       "      <td>0.005677</td>\n",
       "      <td>...</td>\n",
       "      <td>0.027683</td>\n",
       "      <td>0.091023</td>\n",
       "      <td>0.044822</td>\n",
       "      <td>0.039421</td>\n",
       "      <td>0.037666</td>\n",
       "      <td>0.270257</td>\n",
       "      <td>1.000000</td>\n",
       "      <td>0.068843</td>\n",
       "      <td>0.491544</td>\n",
       "      <td>0.007605</td>\n",
       "    </tr>\n",
       "    <tr>\n",
       "      <th>WALLSMATERIAL_MODE_Wooden</th>\n",
       "      <td>0.011036</td>\n",
       "      <td>0.003369</td>\n",
       "      <td>0.007373</td>\n",
       "      <td>0.007711</td>\n",
       "      <td>0.009135</td>\n",
       "      <td>0.056263</td>\n",
       "      <td>0.008758</td>\n",
       "      <td>0.002846</td>\n",
       "      <td>0.000159</td>\n",
       "      <td>0.012702</td>\n",
       "      <td>...</td>\n",
       "      <td>0.121678</td>\n",
       "      <td>0.023464</td>\n",
       "      <td>0.011554</td>\n",
       "      <td>0.010162</td>\n",
       "      <td>0.009710</td>\n",
       "      <td>0.069666</td>\n",
       "      <td>0.068843</td>\n",
       "      <td>1.000000</td>\n",
       "      <td>0.078964</td>\n",
       "      <td>0.273271</td>\n",
       "    </tr>\n",
       "    <tr>\n",
       "      <th>EMERGENCYSTATE_MODE_No</th>\n",
       "      <td>0.038644</td>\n",
       "      <td>0.050174</td>\n",
       "      <td>0.058256</td>\n",
       "      <td>0.068145</td>\n",
       "      <td>0.062878</td>\n",
       "      <td>0.103513</td>\n",
       "      <td>0.019852</td>\n",
       "      <td>0.010907</td>\n",
       "      <td>0.069039</td>\n",
       "      <td>0.015230</td>\n",
       "      <td>...</td>\n",
       "      <td>0.053146</td>\n",
       "      <td>0.165333</td>\n",
       "      <td>0.076786</td>\n",
       "      <td>0.073260</td>\n",
       "      <td>0.060550</td>\n",
       "      <td>0.502903</td>\n",
       "      <td>0.491544</td>\n",
       "      <td>0.078964</td>\n",
       "      <td>1.000000</td>\n",
       "      <td>0.090624</td>\n",
       "    </tr>\n",
       "    <tr>\n",
       "      <th>EMERGENCYSTATE_MODE_Yes</th>\n",
       "      <td>0.004525</td>\n",
       "      <td>0.002894</td>\n",
       "      <td>0.004308</td>\n",
       "      <td>0.003910</td>\n",
       "      <td>0.004848</td>\n",
       "      <td>0.029932</td>\n",
       "      <td>0.005434</td>\n",
       "      <td>0.003571</td>\n",
       "      <td>0.006273</td>\n",
       "      <td>0.006851</td>\n",
       "      <td>...</td>\n",
       "      <td>0.037618</td>\n",
       "      <td>0.010091</td>\n",
       "      <td>0.031648</td>\n",
       "      <td>0.005178</td>\n",
       "      <td>0.049521</td>\n",
       "      <td>0.039280</td>\n",
       "      <td>0.007605</td>\n",
       "      <td>0.273271</td>\n",
       "      <td>0.090624</td>\n",
       "      <td>1.000000</td>\n",
       "    </tr>\n",
       "  </tbody>\n",
       "</table>\n",
       "<p>1455 rows × 1455 columns</p>\n",
       "</div>"
      ],
      "text/plain": [
       "                                 CNT_CHILDREN  AMT_INCOME_TOTAL  AMT_CREDIT  \\\n",
       "CNT_CHILDREN                         1.000000          0.012882    0.002145   \n",
       "AMT_INCOME_TOTAL                     0.012882          1.000000    0.156870   \n",
       "AMT_CREDIT                           0.002145          0.156870    1.000000   \n",
       "AMT_ANNUITY                          0.021374          0.191657    0.770138   \n",
       "AMT_GOODS_PRICE                      0.001827          0.159610    0.986968   \n",
       "...                                       ...               ...         ...   \n",
       "WALLSMATERIAL_MODE_Panel             0.020892          0.032753    0.046644   \n",
       "WALLSMATERIAL_MODE_Stone, brick      0.025088          0.016523    0.009756   \n",
       "WALLSMATERIAL_MODE_Wooden            0.011036          0.003369    0.007373   \n",
       "EMERGENCYSTATE_MODE_No               0.038644          0.050174    0.058256   \n",
       "EMERGENCYSTATE_MODE_Yes              0.004525          0.002894    0.004308   \n",
       "\n",
       "                                 AMT_ANNUITY  AMT_GOODS_PRICE  \\\n",
       "CNT_CHILDREN                        0.021374         0.001827   \n",
       "AMT_INCOME_TOTAL                    0.191657         0.159610   \n",
       "AMT_CREDIT                          0.770138         0.986968   \n",
       "AMT_ANNUITY                         1.000000         0.775109   \n",
       "AMT_GOODS_PRICE                     0.775109         1.000000   \n",
       "...                                      ...              ...   \n",
       "WALLSMATERIAL_MODE_Panel            0.054988         0.049759   \n",
       "WALLSMATERIAL_MODE_Stone, brick     0.009189         0.012888   \n",
       "WALLSMATERIAL_MODE_Wooden           0.007711         0.009135   \n",
       "EMERGENCYSTATE_MODE_No              0.068145         0.062878   \n",
       "EMERGENCYSTATE_MODE_Yes             0.003910         0.004848   \n",
       "\n",
       "                                 REGION_POPULATION_RELATIVE  DAYS_BIRTH  \\\n",
       "CNT_CHILDREN                                       0.025573    0.330938   \n",
       "AMT_INCOME_TOTAL                                   0.074796    0.027261   \n",
       "AMT_CREDIT                                         0.099738    0.055436   \n",
       "AMT_ANNUITY                                        0.118429    0.009445   \n",
       "AMT_GOODS_PRICE                                    0.103520    0.053442   \n",
       "...                                                     ...         ...   \n",
       "WALLSMATERIAL_MODE_Panel                           0.092652    0.013597   \n",
       "WALLSMATERIAL_MODE_Stone, brick                    0.010782    0.010964   \n",
       "WALLSMATERIAL_MODE_Wooden                          0.056263    0.008758   \n",
       "EMERGENCYSTATE_MODE_No                             0.103513    0.019852   \n",
       "EMERGENCYSTATE_MODE_Yes                            0.029932    0.005434   \n",
       "\n",
       "                                 DAYS_EMPLOYED  DAYS_REGISTRATION  \\\n",
       "CNT_CHILDREN                          0.239818           0.183395   \n",
       "AMT_INCOME_TOTAL                      0.064223           0.027805   \n",
       "AMT_CREDIT                            0.066838           0.009621   \n",
       "AMT_ANNUITY                           0.104332           0.038514   \n",
       "AMT_GOODS_PRICE                       0.064842           0.011565   \n",
       "...                                        ...                ...   \n",
       "WALLSMATERIAL_MODE_Panel              0.004193           0.066690   \n",
       "WALLSMATERIAL_MODE_Stone, brick       0.006327           0.023389   \n",
       "WALLSMATERIAL_MODE_Wooden             0.002846           0.000159   \n",
       "EMERGENCYSTATE_MODE_No                0.010907           0.069039   \n",
       "EMERGENCYSTATE_MODE_Yes               0.003571           0.006273   \n",
       "\n",
       "                                 DAYS_ID_PUBLISH  ...  \\\n",
       "CNT_CHILDREN                            0.028019  ...   \n",
       "AMT_INCOME_TOTAL                        0.008506  ...   \n",
       "AMT_CREDIT                              0.006575  ...   \n",
       "AMT_ANNUITY                             0.011268  ...   \n",
       "AMT_GOODS_PRICE                         0.009267  ...   \n",
       "...                                          ...  ...   \n",
       "WALLSMATERIAL_MODE_Panel                0.015459  ...   \n",
       "WALLSMATERIAL_MODE_Stone, brick         0.005677  ...   \n",
       "WALLSMATERIAL_MODE_Wooden               0.012702  ...   \n",
       "EMERGENCYSTATE_MODE_No                  0.015230  ...   \n",
       "EMERGENCYSTATE_MODE_Yes                 0.006851  ...   \n",
       "\n",
       "                                 HOUSETYPE_MODE_terraced house  \\\n",
       "CNT_CHILDREN                                          0.001830   \n",
       "AMT_INCOME_TOTAL                                      0.000718   \n",
       "AMT_CREDIT                                            0.000869   \n",
       "AMT_ANNUITY                                           0.002166   \n",
       "AMT_GOODS_PRICE                                       0.000796   \n",
       "...                                                        ...   \n",
       "WALLSMATERIAL_MODE_Panel                              0.020005   \n",
       "WALLSMATERIAL_MODE_Stone, brick                       0.027683   \n",
       "WALLSMATERIAL_MODE_Wooden                             0.121678   \n",
       "EMERGENCYSTATE_MODE_No                                0.053146   \n",
       "EMERGENCYSTATE_MODE_Yes                               0.037618   \n",
       "\n",
       "                                 WALLSMATERIAL_MODE_Block  \\\n",
       "CNT_CHILDREN                                     0.005272   \n",
       "AMT_INCOME_TOTAL                                 0.011696   \n",
       "AMT_CREDIT                                       0.014314   \n",
       "AMT_ANNUITY                                      0.015589   \n",
       "AMT_GOODS_PRICE                                  0.013696   \n",
       "...                                                   ...   \n",
       "WALLSMATERIAL_MODE_Panel                         0.092112   \n",
       "WALLSMATERIAL_MODE_Stone, brick                  0.091023   \n",
       "WALLSMATERIAL_MODE_Wooden                        0.023464   \n",
       "EMERGENCYSTATE_MODE_No                           0.165333   \n",
       "EMERGENCYSTATE_MODE_Yes                          0.010091   \n",
       "\n",
       "                                 WALLSMATERIAL_MODE_Mixed  \\\n",
       "CNT_CHILDREN                                     0.000709   \n",
       "AMT_INCOME_TOTAL                                 0.006149   \n",
       "AMT_CREDIT                                       0.007987   \n",
       "AMT_ANNUITY                                      0.010077   \n",
       "AMT_GOODS_PRICE                                  0.009955   \n",
       "...                                                   ...   \n",
       "WALLSMATERIAL_MODE_Panel                         0.045358   \n",
       "WALLSMATERIAL_MODE_Stone, brick                  0.044822   \n",
       "WALLSMATERIAL_MODE_Wooden                        0.011554   \n",
       "EMERGENCYSTATE_MODE_No                           0.076786   \n",
       "EMERGENCYSTATE_MODE_Yes                          0.031648   \n",
       "\n",
       "                                 WALLSMATERIAL_MODE_Monolithic  \\\n",
       "CNT_CHILDREN                                          0.001607   \n",
       "AMT_INCOME_TOTAL                                      0.023886   \n",
       "AMT_CREDIT                                            0.027255   \n",
       "AMT_ANNUITY                                           0.035318   \n",
       "AMT_GOODS_PRICE                                       0.028315   \n",
       "...                                                        ...   \n",
       "WALLSMATERIAL_MODE_Panel                              0.039892   \n",
       "WALLSMATERIAL_MODE_Stone, brick                       0.039421   \n",
       "WALLSMATERIAL_MODE_Wooden                             0.010162   \n",
       "EMERGENCYSTATE_MODE_No                                0.073260   \n",
       "EMERGENCYSTATE_MODE_Yes                               0.005178   \n",
       "\n",
       "                                 WALLSMATERIAL_MODE_Others  \\\n",
       "CNT_CHILDREN                                      0.002032   \n",
       "AMT_INCOME_TOTAL                                  0.003886   \n",
       "AMT_CREDIT                                        0.005799   \n",
       "AMT_ANNUITY                                       0.005968   \n",
       "AMT_GOODS_PRICE                                   0.005877   \n",
       "...                                                    ...   \n",
       "WALLSMATERIAL_MODE_Panel                          0.038117   \n",
       "WALLSMATERIAL_MODE_Stone, brick                   0.037666   \n",
       "WALLSMATERIAL_MODE_Wooden                         0.009710   \n",
       "EMERGENCYSTATE_MODE_No                            0.060550   \n",
       "EMERGENCYSTATE_MODE_Yes                           0.049521   \n",
       "\n",
       "                                 WALLSMATERIAL_MODE_Panel  \\\n",
       "CNT_CHILDREN                                     0.020892   \n",
       "AMT_INCOME_TOTAL                                 0.032753   \n",
       "AMT_CREDIT                                       0.046644   \n",
       "AMT_ANNUITY                                      0.054988   \n",
       "AMT_GOODS_PRICE                                  0.049759   \n",
       "...                                                   ...   \n",
       "WALLSMATERIAL_MODE_Panel                         1.000000   \n",
       "WALLSMATERIAL_MODE_Stone, brick                  0.270257   \n",
       "WALLSMATERIAL_MODE_Wooden                        0.069666   \n",
       "EMERGENCYSTATE_MODE_No                           0.502903   \n",
       "EMERGENCYSTATE_MODE_Yes                          0.039280   \n",
       "\n",
       "                                 WALLSMATERIAL_MODE_Stone, brick  \\\n",
       "CNT_CHILDREN                                            0.025088   \n",
       "AMT_INCOME_TOTAL                                        0.016523   \n",
       "AMT_CREDIT                                              0.009756   \n",
       "AMT_ANNUITY                                             0.009189   \n",
       "AMT_GOODS_PRICE                                         0.012888   \n",
       "...                                                          ...   \n",
       "WALLSMATERIAL_MODE_Panel                                0.270257   \n",
       "WALLSMATERIAL_MODE_Stone, brick                         1.000000   \n",
       "WALLSMATERIAL_MODE_Wooden                               0.068843   \n",
       "EMERGENCYSTATE_MODE_No                                  0.491544   \n",
       "EMERGENCYSTATE_MODE_Yes                                 0.007605   \n",
       "\n",
       "                                 WALLSMATERIAL_MODE_Wooden  \\\n",
       "CNT_CHILDREN                                      0.011036   \n",
       "AMT_INCOME_TOTAL                                  0.003369   \n",
       "AMT_CREDIT                                        0.007373   \n",
       "AMT_ANNUITY                                       0.007711   \n",
       "AMT_GOODS_PRICE                                   0.009135   \n",
       "...                                                    ...   \n",
       "WALLSMATERIAL_MODE_Panel                          0.069666   \n",
       "WALLSMATERIAL_MODE_Stone, brick                   0.068843   \n",
       "WALLSMATERIAL_MODE_Wooden                         1.000000   \n",
       "EMERGENCYSTATE_MODE_No                            0.078964   \n",
       "EMERGENCYSTATE_MODE_Yes                           0.273271   \n",
       "\n",
       "                                 EMERGENCYSTATE_MODE_No  \\\n",
       "CNT_CHILDREN                                   0.038644   \n",
       "AMT_INCOME_TOTAL                               0.050174   \n",
       "AMT_CREDIT                                     0.058256   \n",
       "AMT_ANNUITY                                    0.068145   \n",
       "AMT_GOODS_PRICE                                0.062878   \n",
       "...                                                 ...   \n",
       "WALLSMATERIAL_MODE_Panel                       0.502903   \n",
       "WALLSMATERIAL_MODE_Stone, brick                0.491544   \n",
       "WALLSMATERIAL_MODE_Wooden                      0.078964   \n",
       "EMERGENCYSTATE_MODE_No                         1.000000   \n",
       "EMERGENCYSTATE_MODE_Yes                        0.090624   \n",
       "\n",
       "                                 EMERGENCYSTATE_MODE_Yes  \n",
       "CNT_CHILDREN                                    0.004525  \n",
       "AMT_INCOME_TOTAL                                0.002894  \n",
       "AMT_CREDIT                                      0.004308  \n",
       "AMT_ANNUITY                                     0.003910  \n",
       "AMT_GOODS_PRICE                                 0.004848  \n",
       "...                                                  ...  \n",
       "WALLSMATERIAL_MODE_Panel                        0.039280  \n",
       "WALLSMATERIAL_MODE_Stone, brick                 0.007605  \n",
       "WALLSMATERIAL_MODE_Wooden                       0.273271  \n",
       "EMERGENCYSTATE_MODE_No                          0.090624  \n",
       "EMERGENCYSTATE_MODE_Yes                         1.000000  \n",
       "\n",
       "[1455 rows x 1455 columns]"
      ]
     },
     "execution_count": 8,
     "metadata": {},
     "output_type": "execute_result"
    }
   ],
   "source": [
    "corr_matrix = train.corr().abs()\n",
    "corr_matrix"
   ]
  },
  {
   "cell_type": "code",
   "execution_count": 9,
   "id": "21da66f9",
   "metadata": {},
   "outputs": [
    {
     "name": "stderr",
     "output_type": "stream",
     "text": [
      "C:\\Users\\csaba\\AppData\\Local\\Temp\\ipykernel_17352\\2665302050.py:1: DeprecationWarning: `np.bool` is a deprecated alias for the builtin `bool`. To silence this warning, use `bool` by itself. Doing this will not modify any behavior and is safe. If you specifically wanted the numpy scalar type, use `np.bool_` here.\n",
      "Deprecated in NumPy 1.20; for more details and guidance: https://numpy.org/devdocs/release/1.20.0-notes.html#deprecations\n",
      "  upper = corr_matrix.where(np.triu(np.ones(corr_matrix.shape), k=1).astype(np.bool))\n"
     ]
    }
   ],
   "source": [
    "upper = corr_matrix.where(np.triu(np.ones(corr_matrix.shape), k=1).astype(np.bool))"
   ]
  },
  {
   "cell_type": "code",
   "execution_count": 10,
   "id": "3016c20d",
   "metadata": {},
   "outputs": [],
   "source": [
    "threshold = 0.9\n",
    "to_drop = [column for column in upper.columns if any(upper[column]>threshold)]"
   ]
  },
  {
   "cell_type": "code",
   "execution_count": 11,
   "id": "8f614366",
   "metadata": {},
   "outputs": [
    {
     "data": {
      "text/plain": [
       "601"
      ]
     },
     "execution_count": 11,
     "metadata": {},
     "output_type": "execute_result"
    }
   ],
   "source": [
    "len(to_drop)"
   ]
  },
  {
   "cell_type": "code",
   "execution_count": 12,
   "id": "82b9f8fd",
   "metadata": {},
   "outputs": [
    {
     "name": "stdout",
     "output_type": "stream",
     "text": [
      "(307511, 854)\n",
      "(48744, 854)\n"
     ]
    }
   ],
   "source": [
    "train = train.drop(columns = to_drop)\n",
    "test = test.drop(columns = to_drop)\n",
    "print(train.shape)\n",
    "print(test.shape)"
   ]
  },
  {
   "cell_type": "markdown",
   "id": "eaef0a77",
   "metadata": {},
   "source": [
    "### 9.3 Columns with Missing Values\n",
    "We remove columns with missing values above a certain threshold. We don't remove all since LGBM can very well deal with them."
   ]
  },
  {
   "cell_type": "code",
   "execution_count": 13,
   "id": "04c2a134",
   "metadata": {},
   "outputs": [
    {
     "data": {
      "text/plain": [
       "client_credit_AMT_PAYMENT_CURRENT_min_mean          0.801438\n",
       "client_credit_AMT_PAYMENT_CURRENT_mean_max          0.801438\n",
       "client_credit_CNT_DRAWINGS_ATM_CURRENT_mean_mean    0.801178\n",
       "client_credit_AMT_DRAWINGS_ATM_CURRENT_max_min      0.801178\n",
       "client_credit_AMT_DRAWINGS_ATM_CURRENT_mean_min     0.801178\n",
       "dtype: float64"
      ]
     },
     "execution_count": 13,
     "metadata": {},
     "output_type": "execute_result"
    }
   ],
   "source": [
    "train_missing = (train.isnull().sum() / len(train)).sort_values(ascending=False)\n",
    "train_missing.head()"
   ]
  },
  {
   "cell_type": "code",
   "execution_count": 14,
   "id": "6103720f",
   "metadata": {},
   "outputs": [],
   "source": [
    "test_missing = (test.isnull().sum() / len(test)).sort_values(ascending = False)\n",
    "test_missing.head()\n",
    "train_missing = train_missing.index[train_missing > 0.75]\n",
    "test_missing = test_missing.index[test_missing > 0.75]\n",
    "all_missing = list(set(set(train_missing) | set(test_missing)))\n"
   ]
  },
  {
   "cell_type": "code",
   "execution_count": 15,
   "id": "2e14ab99",
   "metadata": {},
   "outputs": [
    {
     "name": "stdout",
     "output_type": "stream",
     "text": [
      "(307511, 854)\n",
      "(48744, 854)\n"
     ]
    }
   ],
   "source": [
    "print(train.shape)\n",
    "print(test.shape)"
   ]
  },
  {
   "cell_type": "code",
   "execution_count": 16,
   "id": "753b4afd",
   "metadata": {},
   "outputs": [],
   "source": [
    "train = pd.get_dummies(train.drop(columns = all_missing))\n",
    "test = pd.get_dummies(test.drop(columns = all_missing))\n",
    "\n",
    "train, test = train.align(test, join = 'inner', axis = 1)"
   ]
  },
  {
   "cell_type": "markdown",
   "id": "bc16c5a4",
   "metadata": {},
   "source": [
    "### 9.4 Removing Unimportant Features"
   ]
  },
  {
   "cell_type": "code",
   "execution_count": 17,
   "id": "8bdcc4a8",
   "metadata": {},
   "outputs": [],
   "source": [
    "import re\n",
    "train = train.rename(columns = lambda x:re.sub('[^A-Za-z0-9_]+', '', x))\n",
    "test = test.rename(columns = lambda x:re.sub('[^A-Za-z0-9_]+', '', x))"
   ]
  },
  {
   "cell_type": "code",
   "execution_count": 18,
   "id": "54deb4f4",
   "metadata": {},
   "outputs": [],
   "source": [
    "feature_importances = np.zeros(train.shape[1])\n",
    "\n",
    "model = lgb.LGBMClassifier(objective = 'binary', boosting_type = 'goss', n_estimators = 10000, class_weight = 'balanced')"
   ]
  },
  {
   "cell_type": "code",
   "execution_count": 19,
   "id": "f8d57b73",
   "metadata": {},
   "outputs": [
    {
     "name": "stderr",
     "output_type": "stream",
     "text": [
      "C:\\ProgramData\\Anaconda3\\lib\\site-packages\\lightgbm\\sklearn.py:726: UserWarning: 'early_stopping_rounds' argument is deprecated and will be removed in a future release of LightGBM. Pass 'early_stopping()' callback via 'callbacks' argument instead.\n",
      "  _log_warning(\"'early_stopping_rounds' argument is deprecated and will be removed in a future release of LightGBM. \"\n",
      "C:\\ProgramData\\Anaconda3\\lib\\site-packages\\lightgbm\\sklearn.py:736: UserWarning: 'verbose' argument is deprecated and will be removed in a future release of LightGBM. Pass 'log_evaluation()' callback via 'callbacks' argument instead.\n",
      "  _log_warning(\"'verbose' argument is deprecated and will be removed in a future release of LightGBM. \"\n"
     ]
    },
    {
     "name": "stdout",
     "output_type": "stream",
     "text": [
      "[200]\tvalid_0's auc: 0.782332\tvalid_0's binary_logloss: 0.508747\n"
     ]
    },
    {
     "name": "stderr",
     "output_type": "stream",
     "text": [
      "C:\\ProgramData\\Anaconda3\\lib\\site-packages\\lightgbm\\sklearn.py:726: UserWarning: 'early_stopping_rounds' argument is deprecated and will be removed in a future release of LightGBM. Pass 'early_stopping()' callback via 'callbacks' argument instead.\n",
      "  _log_warning(\"'early_stopping_rounds' argument is deprecated and will be removed in a future release of LightGBM. \"\n",
      "C:\\ProgramData\\Anaconda3\\lib\\site-packages\\lightgbm\\sklearn.py:736: UserWarning: 'verbose' argument is deprecated and will be removed in a future release of LightGBM. Pass 'log_evaluation()' callback via 'callbacks' argument instead.\n",
      "  _log_warning(\"'verbose' argument is deprecated and will be removed in a future release of LightGBM. \"\n"
     ]
    },
    {
     "name": "stdout",
     "output_type": "stream",
     "text": [
      "[200]\tvalid_0's auc: 0.783974\tvalid_0's binary_logloss: 0.508746\n"
     ]
    }
   ],
   "source": [
    "for i in range(2):\n",
    "    train_features, valid_features, train_y, valid_y = train_test_split(train, train_labels, test_size = 0.25, random_state = i)\n",
    "    model.fit(train_features, train_y, early_stopping_rounds = 100, eval_set = [(valid_features, valid_y)], eval_metric = 'auc', verbose = 200)\n",
    "    \n",
    "    feature_importances += model.feature_importances_"
   ]
  },
  {
   "cell_type": "code",
   "execution_count": 20,
   "id": "464d07f8",
   "metadata": {},
   "outputs": [
    {
     "data": {
      "text/html": [
       "<div>\n",
       "<style scoped>\n",
       "    .dataframe tbody tr th:only-of-type {\n",
       "        vertical-align: middle;\n",
       "    }\n",
       "\n",
       "    .dataframe tbody tr th {\n",
       "        vertical-align: top;\n",
       "    }\n",
       "\n",
       "    .dataframe thead th {\n",
       "        text-align: right;\n",
       "    }\n",
       "</style>\n",
       "<table border=\"1\" class=\"dataframe\">\n",
       "  <thead>\n",
       "    <tr style=\"text-align: right;\">\n",
       "      <th></th>\n",
       "      <th>feature</th>\n",
       "      <th>importance</th>\n",
       "    </tr>\n",
       "  </thead>\n",
       "  <tbody>\n",
       "    <tr>\n",
       "      <th>24</th>\n",
       "      <td>EXT_SOURCE_1</td>\n",
       "      <td>160.0</td>\n",
       "    </tr>\n",
       "    <tr>\n",
       "      <th>26</th>\n",
       "      <td>EXT_SOURCE_3</td>\n",
       "      <td>121.5</td>\n",
       "    </tr>\n",
       "    <tr>\n",
       "      <th>25</th>\n",
       "      <td>EXT_SOURCE_2</td>\n",
       "      <td>120.0</td>\n",
       "    </tr>\n",
       "    <tr>\n",
       "      <th>654</th>\n",
       "      <td>client_installments_AMT_PAYMENT_min_sum</td>\n",
       "      <td>117.0</td>\n",
       "    </tr>\n",
       "    <tr>\n",
       "      <th>5</th>\n",
       "      <td>DAYS_BIRTH</td>\n",
       "      <td>100.5</td>\n",
       "    </tr>\n",
       "    <tr>\n",
       "      <th>2</th>\n",
       "      <td>AMT_CREDIT</td>\n",
       "      <td>82.0</td>\n",
       "    </tr>\n",
       "    <tr>\n",
       "      <th>3</th>\n",
       "      <td>AMT_ANNUITY</td>\n",
       "      <td>69.5</td>\n",
       "    </tr>\n",
       "    <tr>\n",
       "      <th>6</th>\n",
       "      <td>DAYS_EMPLOYED</td>\n",
       "      <td>61.0</td>\n",
       "    </tr>\n",
       "    <tr>\n",
       "      <th>78</th>\n",
       "      <td>bureau_DAYS_CREDIT_ENDDATE_max</td>\n",
       "      <td>50.5</td>\n",
       "    </tr>\n",
       "    <tr>\n",
       "      <th>71</th>\n",
       "      <td>bureau_DAYS_CREDIT_max</td>\n",
       "      <td>47.5</td>\n",
       "    </tr>\n",
       "    <tr>\n",
       "      <th>9</th>\n",
       "      <td>OWN_CAR_AGE</td>\n",
       "      <td>45.5</td>\n",
       "    </tr>\n",
       "    <tr>\n",
       "      <th>8</th>\n",
       "      <td>DAYS_ID_PUBLISH</td>\n",
       "      <td>44.5</td>\n",
       "    </tr>\n",
       "    <tr>\n",
       "      <th>93</th>\n",
       "      <td>bureau_AMT_CREDIT_SUM_DEBT_mean</td>\n",
       "      <td>44.0</td>\n",
       "    </tr>\n",
       "    <tr>\n",
       "      <th>85</th>\n",
       "      <td>bureau_AMT_CREDIT_MAX_OVERDUE_mean</td>\n",
       "      <td>41.5</td>\n",
       "    </tr>\n",
       "    <tr>\n",
       "      <th>227</th>\n",
       "      <td>client_installments_DAYS_ENTRY_PAYMENT_max_max</td>\n",
       "      <td>38.5</td>\n",
       "    </tr>\n",
       "  </tbody>\n",
       "</table>\n",
       "</div>"
      ],
      "text/plain": [
       "                                            feature  importance\n",
       "24                                     EXT_SOURCE_1       160.0\n",
       "26                                     EXT_SOURCE_3       121.5\n",
       "25                                     EXT_SOURCE_2       120.0\n",
       "654         client_installments_AMT_PAYMENT_min_sum       117.0\n",
       "5                                        DAYS_BIRTH       100.5\n",
       "2                                        AMT_CREDIT        82.0\n",
       "3                                       AMT_ANNUITY        69.5\n",
       "6                                     DAYS_EMPLOYED        61.0\n",
       "78                   bureau_DAYS_CREDIT_ENDDATE_max        50.5\n",
       "71                           bureau_DAYS_CREDIT_max        47.5\n",
       "9                                       OWN_CAR_AGE        45.5\n",
       "8                                   DAYS_ID_PUBLISH        44.5\n",
       "93                  bureau_AMT_CREDIT_SUM_DEBT_mean        44.0\n",
       "85               bureau_AMT_CREDIT_MAX_OVERDUE_mean        41.5\n",
       "227  client_installments_DAYS_ENTRY_PAYMENT_max_max        38.5"
      ]
     },
     "execution_count": 20,
     "metadata": {},
     "output_type": "execute_result"
    }
   ],
   "source": [
    "feature_importances = feature_importances / 2\n",
    "feature_importances = pd.DataFrame({'feature': list(train.columns), 'importance': feature_importances}).sort_values('importance', ascending = False)\n",
    "\n",
    "feature_importances.head(15)"
   ]
  },
  {
   "cell_type": "code",
   "execution_count": 21,
   "id": "6b32e2e2",
   "metadata": {},
   "outputs": [
    {
     "name": "stdout",
     "output_type": "stream",
     "text": [
      "295\n"
     ]
    }
   ],
   "source": [
    "zero_features = list(feature_importances[feature_importances['importance'] <= 0.1]['feature'])\n",
    "print(len(zero_features))"
   ]
  },
  {
   "cell_type": "code",
   "execution_count": 22,
   "id": "2676cf03",
   "metadata": {},
   "outputs": [
    {
     "name": "stdout",
     "output_type": "stream",
     "text": [
      "(307511, 541)\n",
      "(48744, 541)\n"
     ]
    }
   ],
   "source": [
    "train = train.drop(columns = zero_features)\n",
    "test = test.drop(columns = zero_features)\n",
    "print(train.shape)\n",
    "print(test.shape)"
   ]
  },
  {
   "cell_type": "code",
   "execution_count": 23,
   "id": "9166a5ae",
   "metadata": {},
   "outputs": [],
   "source": [
    "train.to_csv('train_3.csv', index = False)\n",
    "test.to_csv('test_3.csv', index = False)"
   ]
  },
  {
   "cell_type": "code",
   "execution_count": 25,
   "id": "8501ec95",
   "metadata": {},
   "outputs": [],
   "source": [
    "train_labels.to_csv('train_labels.csv', index = False)\n",
    "train_ids.to_csv('train_ids.csv', index = False)\n",
    "test_ids.to_csv('test_ids.csv', index = False)"
   ]
  },
  {
   "cell_type": "code",
   "execution_count": null,
   "id": "a85140a2",
   "metadata": {},
   "outputs": [],
   "source": []
  }
 ],
 "metadata": {
  "kernelspec": {
   "display_name": "Python 3 (ipykernel)",
   "language": "python",
   "name": "python3"
  },
  "language_info": {
   "codemirror_mode": {
    "name": "ipython",
    "version": 3
   },
   "file_extension": ".py",
   "mimetype": "text/x-python",
   "name": "python",
   "nbconvert_exporter": "python",
   "pygments_lexer": "ipython3",
   "version": "3.9.12"
  }
 },
 "nbformat": 4,
 "nbformat_minor": 5
}
