{
 "cells": [
  {
   "cell_type": "markdown",
   "id": "12fa9613",
   "metadata": {},
   "source": [
    "# 1. Feature Engineering\n",
    "We start off by importing useful libraries, the *application_train* and *application_test* datasets. We check basic facts such as the amount of NaN values, number of categories by categorical features."
   ]
  },
  {
   "cell_type": "code",
   "execution_count": 1,
   "id": "12ac83e4",
   "metadata": {},
   "outputs": [],
   "source": [
    "import numpy as np, pandas as pd\n",
    "\n",
    "%matplotlib inline\n",
    "\n",
    "import matplotlib.pyplot as plt\n",
    "plt.style.use('bmh')\n",
    "import seaborn as sns\n",
    "\n",
    "from sklearn.impute import SimpleImputer\n",
    "from sklearn.preprocessing import PolynomialFeatures\n",
    "from sklearn.preprocessing import LabelEncoder"
   ]
  },
  {
   "cell_type": "code",
   "execution_count": 2,
   "id": "71d5c93d",
   "metadata": {},
   "outputs": [
    {
     "name": "stdout",
     "output_type": "stream",
     "text": [
      "(307511, 122)\n"
     ]
    },
    {
     "data": {
      "text/html": [
       "<div>\n",
       "<style scoped>\n",
       "    .dataframe tbody tr th:only-of-type {\n",
       "        vertical-align: middle;\n",
       "    }\n",
       "\n",
       "    .dataframe tbody tr th {\n",
       "        vertical-align: top;\n",
       "    }\n",
       "\n",
       "    .dataframe thead th {\n",
       "        text-align: right;\n",
       "    }\n",
       "</style>\n",
       "<table border=\"1\" class=\"dataframe\">\n",
       "  <thead>\n",
       "    <tr style=\"text-align: right;\">\n",
       "      <th></th>\n",
       "      <th>SK_ID_CURR</th>\n",
       "      <th>TARGET</th>\n",
       "      <th>NAME_CONTRACT_TYPE</th>\n",
       "      <th>CODE_GENDER</th>\n",
       "      <th>FLAG_OWN_CAR</th>\n",
       "      <th>FLAG_OWN_REALTY</th>\n",
       "      <th>CNT_CHILDREN</th>\n",
       "      <th>AMT_INCOME_TOTAL</th>\n",
       "      <th>AMT_CREDIT</th>\n",
       "      <th>AMT_ANNUITY</th>\n",
       "      <th>...</th>\n",
       "      <th>FLAG_DOCUMENT_18</th>\n",
       "      <th>FLAG_DOCUMENT_19</th>\n",
       "      <th>FLAG_DOCUMENT_20</th>\n",
       "      <th>FLAG_DOCUMENT_21</th>\n",
       "      <th>AMT_REQ_CREDIT_BUREAU_HOUR</th>\n",
       "      <th>AMT_REQ_CREDIT_BUREAU_DAY</th>\n",
       "      <th>AMT_REQ_CREDIT_BUREAU_WEEK</th>\n",
       "      <th>AMT_REQ_CREDIT_BUREAU_MON</th>\n",
       "      <th>AMT_REQ_CREDIT_BUREAU_QRT</th>\n",
       "      <th>AMT_REQ_CREDIT_BUREAU_YEAR</th>\n",
       "    </tr>\n",
       "  </thead>\n",
       "  <tbody>\n",
       "    <tr>\n",
       "      <th>0</th>\n",
       "      <td>100002</td>\n",
       "      <td>1</td>\n",
       "      <td>Cash loans</td>\n",
       "      <td>M</td>\n",
       "      <td>N</td>\n",
       "      <td>Y</td>\n",
       "      <td>0</td>\n",
       "      <td>202500.0</td>\n",
       "      <td>406597.5</td>\n",
       "      <td>24700.5</td>\n",
       "      <td>...</td>\n",
       "      <td>0</td>\n",
       "      <td>0</td>\n",
       "      <td>0</td>\n",
       "      <td>0</td>\n",
       "      <td>0.0</td>\n",
       "      <td>0.0</td>\n",
       "      <td>0.0</td>\n",
       "      <td>0.0</td>\n",
       "      <td>0.0</td>\n",
       "      <td>1.0</td>\n",
       "    </tr>\n",
       "    <tr>\n",
       "      <th>1</th>\n",
       "      <td>100003</td>\n",
       "      <td>0</td>\n",
       "      <td>Cash loans</td>\n",
       "      <td>F</td>\n",
       "      <td>N</td>\n",
       "      <td>N</td>\n",
       "      <td>0</td>\n",
       "      <td>270000.0</td>\n",
       "      <td>1293502.5</td>\n",
       "      <td>35698.5</td>\n",
       "      <td>...</td>\n",
       "      <td>0</td>\n",
       "      <td>0</td>\n",
       "      <td>0</td>\n",
       "      <td>0</td>\n",
       "      <td>0.0</td>\n",
       "      <td>0.0</td>\n",
       "      <td>0.0</td>\n",
       "      <td>0.0</td>\n",
       "      <td>0.0</td>\n",
       "      <td>0.0</td>\n",
       "    </tr>\n",
       "    <tr>\n",
       "      <th>2</th>\n",
       "      <td>100004</td>\n",
       "      <td>0</td>\n",
       "      <td>Revolving loans</td>\n",
       "      <td>M</td>\n",
       "      <td>Y</td>\n",
       "      <td>Y</td>\n",
       "      <td>0</td>\n",
       "      <td>67500.0</td>\n",
       "      <td>135000.0</td>\n",
       "      <td>6750.0</td>\n",
       "      <td>...</td>\n",
       "      <td>0</td>\n",
       "      <td>0</td>\n",
       "      <td>0</td>\n",
       "      <td>0</td>\n",
       "      <td>0.0</td>\n",
       "      <td>0.0</td>\n",
       "      <td>0.0</td>\n",
       "      <td>0.0</td>\n",
       "      <td>0.0</td>\n",
       "      <td>0.0</td>\n",
       "    </tr>\n",
       "    <tr>\n",
       "      <th>3</th>\n",
       "      <td>100006</td>\n",
       "      <td>0</td>\n",
       "      <td>Cash loans</td>\n",
       "      <td>F</td>\n",
       "      <td>N</td>\n",
       "      <td>Y</td>\n",
       "      <td>0</td>\n",
       "      <td>135000.0</td>\n",
       "      <td>312682.5</td>\n",
       "      <td>29686.5</td>\n",
       "      <td>...</td>\n",
       "      <td>0</td>\n",
       "      <td>0</td>\n",
       "      <td>0</td>\n",
       "      <td>0</td>\n",
       "      <td>NaN</td>\n",
       "      <td>NaN</td>\n",
       "      <td>NaN</td>\n",
       "      <td>NaN</td>\n",
       "      <td>NaN</td>\n",
       "      <td>NaN</td>\n",
       "    </tr>\n",
       "    <tr>\n",
       "      <th>4</th>\n",
       "      <td>100007</td>\n",
       "      <td>0</td>\n",
       "      <td>Cash loans</td>\n",
       "      <td>M</td>\n",
       "      <td>N</td>\n",
       "      <td>Y</td>\n",
       "      <td>0</td>\n",
       "      <td>121500.0</td>\n",
       "      <td>513000.0</td>\n",
       "      <td>21865.5</td>\n",
       "      <td>...</td>\n",
       "      <td>0</td>\n",
       "      <td>0</td>\n",
       "      <td>0</td>\n",
       "      <td>0</td>\n",
       "      <td>0.0</td>\n",
       "      <td>0.0</td>\n",
       "      <td>0.0</td>\n",
       "      <td>0.0</td>\n",
       "      <td>0.0</td>\n",
       "      <td>0.0</td>\n",
       "    </tr>\n",
       "  </tbody>\n",
       "</table>\n",
       "<p>5 rows × 122 columns</p>\n",
       "</div>"
      ],
      "text/plain": [
       "   SK_ID_CURR  TARGET NAME_CONTRACT_TYPE CODE_GENDER FLAG_OWN_CAR  \\\n",
       "0      100002       1         Cash loans           M            N   \n",
       "1      100003       0         Cash loans           F            N   \n",
       "2      100004       0    Revolving loans           M            Y   \n",
       "3      100006       0         Cash loans           F            N   \n",
       "4      100007       0         Cash loans           M            N   \n",
       "\n",
       "  FLAG_OWN_REALTY  CNT_CHILDREN  AMT_INCOME_TOTAL  AMT_CREDIT  AMT_ANNUITY  \\\n",
       "0               Y             0          202500.0    406597.5      24700.5   \n",
       "1               N             0          270000.0   1293502.5      35698.5   \n",
       "2               Y             0           67500.0    135000.0       6750.0   \n",
       "3               Y             0          135000.0    312682.5      29686.5   \n",
       "4               Y             0          121500.0    513000.0      21865.5   \n",
       "\n",
       "   ...  FLAG_DOCUMENT_18 FLAG_DOCUMENT_19 FLAG_DOCUMENT_20 FLAG_DOCUMENT_21  \\\n",
       "0  ...                 0                0                0                0   \n",
       "1  ...                 0                0                0                0   \n",
       "2  ...                 0                0                0                0   \n",
       "3  ...                 0                0                0                0   \n",
       "4  ...                 0                0                0                0   \n",
       "\n",
       "  AMT_REQ_CREDIT_BUREAU_HOUR AMT_REQ_CREDIT_BUREAU_DAY  \\\n",
       "0                        0.0                       0.0   \n",
       "1                        0.0                       0.0   \n",
       "2                        0.0                       0.0   \n",
       "3                        NaN                       NaN   \n",
       "4                        0.0                       0.0   \n",
       "\n",
       "   AMT_REQ_CREDIT_BUREAU_WEEK  AMT_REQ_CREDIT_BUREAU_MON  \\\n",
       "0                         0.0                        0.0   \n",
       "1                         0.0                        0.0   \n",
       "2                         0.0                        0.0   \n",
       "3                         NaN                        NaN   \n",
       "4                         0.0                        0.0   \n",
       "\n",
       "   AMT_REQ_CREDIT_BUREAU_QRT  AMT_REQ_CREDIT_BUREAU_YEAR  \n",
       "0                        0.0                         1.0  \n",
       "1                        0.0                         0.0  \n",
       "2                        0.0                         0.0  \n",
       "3                        NaN                         NaN  \n",
       "4                        0.0                         0.0  \n",
       "\n",
       "[5 rows x 122 columns]"
      ]
     },
     "execution_count": 2,
     "metadata": {},
     "output_type": "execute_result"
    }
   ],
   "source": [
    "train = pd.read_csv('application_train.csv')\n",
    "test = pd.read_csv('application_test.csv')\n",
    "print(train.shape)\n",
    "train.head()"
   ]
  },
  {
   "cell_type": "code",
   "execution_count": 3,
   "id": "ef4ebbc9",
   "metadata": {},
   "outputs": [
    {
     "data": {
      "text/plain": [
       "0    282686\n",
       "1     24825\n",
       "Name: TARGET, dtype: int64"
      ]
     },
     "execution_count": 3,
     "metadata": {},
     "output_type": "execute_result"
    }
   ],
   "source": [
    "train[\"TARGET\"].value_counts()"
   ]
  },
  {
   "cell_type": "code",
   "execution_count": 4,
   "id": "ca756a63",
   "metadata": {},
   "outputs": [
    {
     "name": "stdout",
     "output_type": "stream",
     "text": [
      "Columns with NaN values: 67\n"
     ]
    }
   ],
   "source": [
    "print(\"Columns with NaN values: \" + str((train.isnull().sum()!=0).sum()))"
   ]
  },
  {
   "cell_type": "code",
   "execution_count": 5,
   "id": "5c58dc8e",
   "metadata": {},
   "outputs": [
    {
     "data": {
      "text/plain": [
       "float64    65\n",
       "int64      41\n",
       "object     16\n",
       "dtype: int64"
      ]
     },
     "execution_count": 5,
     "metadata": {},
     "output_type": "execute_result"
    }
   ],
   "source": [
    "train.dtypes.value_counts()"
   ]
  },
  {
   "cell_type": "code",
   "execution_count": 6,
   "id": "ebf9d03d",
   "metadata": {},
   "outputs": [
    {
     "data": {
      "text/plain": [
       "NAME_CONTRACT_TYPE             2\n",
       "CODE_GENDER                    3\n",
       "FLAG_OWN_CAR                   2\n",
       "FLAG_OWN_REALTY                2\n",
       "NAME_TYPE_SUITE                7\n",
       "NAME_INCOME_TYPE               8\n",
       "NAME_EDUCATION_TYPE            5\n",
       "NAME_FAMILY_STATUS             6\n",
       "NAME_HOUSING_TYPE              6\n",
       "OCCUPATION_TYPE               18\n",
       "WEEKDAY_APPR_PROCESS_START     7\n",
       "ORGANIZATION_TYPE             58\n",
       "FONDKAPREMONT_MODE             4\n",
       "HOUSETYPE_MODE                 3\n",
       "WALLSMATERIAL_MODE             7\n",
       "EMERGENCYSTATE_MODE            2\n",
       "dtype: int64"
      ]
     },
     "execution_count": 6,
     "metadata": {},
     "output_type": "execute_result"
    }
   ],
   "source": [
    "train.select_dtypes('object').apply(pd.Series.nunique, axis=0)"
   ]
  },
  {
   "cell_type": "markdown",
   "id": "93810e30",
   "metadata": {},
   "source": [
    "LabelEncoding categorical features with at most 2 unique values.\n",
    "WARNING: EMERGENCYSTATE_MODE has 3 unique values, NaN is not included in the above list."
   ]
  },
  {
   "cell_type": "markdown",
   "id": "3fdd8d25",
   "metadata": {},
   "source": [
    "## 1.1 Label Encoding and Dummy Variables"
   ]
  },
  {
   "cell_type": "markdown",
   "id": "7e772fe0",
   "metadata": {},
   "source": [
    "We encode binary categorical features with values 0,1. Features with multiple categories are handled with dummy variables."
   ]
  },
  {
   "cell_type": "code",
   "execution_count": 7,
   "id": "1a53d9e9",
   "metadata": {},
   "outputs": [],
   "source": [
    "lab_enc = LabelEncoder()\n",
    "\n",
    "for col in train:\n",
    "    if train[col].dtype == 'object':\n",
    "        if len(list(train[col].unique())) <= 2:\n",
    "            lab_enc.fit(train[col])\n",
    "            train[col] = lab_enc.transform(train[col])\n",
    "            test[col] = lab_enc.transform(test[col])"
   ]
  },
  {
   "cell_type": "code",
   "execution_count": 8,
   "id": "5f525dc6",
   "metadata": {},
   "outputs": [
    {
     "name": "stdout",
     "output_type": "stream",
     "text": [
      "Train shape before: (307511, 122)\n",
      "Test shape before: (48744, 121)\n",
      "Train shape after: (307511, 243)\n",
      "Test shape after: (48744, 239)\n"
     ]
    }
   ],
   "source": [
    "print(\"Train shape before: \" + str(train.shape))\n",
    "print(\"Test shape before: \" + str(test.shape))\n",
    "\n",
    "train = pd.get_dummies(train)\n",
    "test = pd.get_dummies(test)\n",
    "\n",
    "print(\"Train shape after: \" + str(train.shape))\n",
    "print(\"Test shape after: \" + str(test.shape))"
   ]
  },
  {
   "cell_type": "markdown",
   "id": "1b893c68",
   "metadata": {},
   "source": [
    "We align columns of train and test set"
   ]
  },
  {
   "cell_type": "code",
   "execution_count": 9,
   "id": "00db1a79",
   "metadata": {},
   "outputs": [
    {
     "name": "stdout",
     "output_type": "stream",
     "text": [
      "Train shape: (307511, 240)\n",
      "Test shape: (48744, 239)\n"
     ]
    }
   ],
   "source": [
    "train_y = train[\"TARGET\"]\n",
    "\n",
    "train, test = train.align(test, join = \"inner\", axis = 1)\n",
    "\n",
    "train[\"TARGET\"] = train_y\n",
    "\n",
    "print(\"Train shape: \" + str(train.shape))\n",
    "print(\"Test shape: \" + str(test.shape))"
   ]
  },
  {
   "cell_type": "markdown",
   "id": "bf204f2a",
   "metadata": {},
   "source": [
    "## 1.2 DAYS_EMPLOYED anomalies\n",
    "We find anomalies in both the train and test datasets:\n",
    "\n",
    "The only such number is 365243. We create a column to mark the anomaly and we replace the values with np.nan. "
   ]
  },
  {
   "cell_type": "code",
   "execution_count": 10,
   "id": "d098a500",
   "metadata": {},
   "outputs": [
    {
     "data": {
      "text/plain": [
       "count    307511.000000\n",
       "mean      63815.045904\n",
       "std      141275.766519\n",
       "min      -17912.000000\n",
       "25%       -2760.000000\n",
       "50%       -1213.000000\n",
       "75%        -289.000000\n",
       "max      365243.000000\n",
       "Name: DAYS_EMPLOYED, dtype: float64"
      ]
     },
     "execution_count": 10,
     "metadata": {},
     "output_type": "execute_result"
    }
   ],
   "source": [
    "train[\"DAYS_EMPLOYED\"].describe()"
   ]
  },
  {
   "cell_type": "code",
   "execution_count": 11,
   "id": "795972c4",
   "metadata": {},
   "outputs": [
    {
     "data": {
      "text/plain": [
       "280994   -17912\n",
       "273069   -17583\n",
       "208899   -17546\n",
       "35191    -17531\n",
       "234168   -17522\n",
       "          ...  \n",
       "161893       -2\n",
       "111965       -2\n",
       "246105       -1\n",
       "23691         0\n",
       "121625        0\n",
       "Name: DAYS_EMPLOYED, Length: 252137, dtype: int64"
      ]
     },
     "execution_count": 11,
     "metadata": {},
     "output_type": "execute_result"
    }
   ],
   "source": [
    "train[train[\"DAYS_EMPLOYED\"]<365243]['DAYS_EMPLOYED'].sort_values()"
   ]
  },
  {
   "cell_type": "code",
   "execution_count": 12,
   "id": "32978d97",
   "metadata": {},
   "outputs": [
    {
     "name": "stdout",
     "output_type": "stream",
     "text": [
      "Default rate of anomalies: 5.40%\n",
      "Default rate of non-anomalies: 8.66%\n"
     ]
    }
   ],
   "source": [
    "anomalies = train[train['DAYS_EMPLOYED'] == 365243]\n",
    "non_anomalies = train[train['DAYS_EMPLOYED'] != 365243]\n",
    "\n",
    "print(\"Default rate of anomalies: {0:.2f}%\".format(100*anomalies[\"TARGET\"].mean()))\n",
    "print(\"Default rate of non-anomalies: {0:.2f}%\".format(100*non_anomalies[\"TARGET\"].mean()))"
   ]
  },
  {
   "cell_type": "code",
   "execution_count": 13,
   "id": "e139b292",
   "metadata": {},
   "outputs": [
    {
     "data": {
      "text/plain": [
       "<AxesSubplot:ylabel='Frequency'>"
      ]
     },
     "execution_count": 13,
     "metadata": {},
     "output_type": "execute_result"
    },
    {
     "data": {
      "image/png": "[encoded data removed]",
      "text/plain": [
       "<Figure size 432x288 with 1 Axes>"
      ]
     },
     "metadata": {
      "needs_background": "light"
     },
     "output_type": "display_data"
    }
   ],
   "source": [
    "train['DAYS_EMPLOYED_ANOM'] = train['DAYS_EMPLOYED'] == 365243\n",
    "train['DAYS_EMPLOYED'].replace({365243: np.nan}, inplace = True)\n",
    "train[\"DAYS_EMPLOYED\"].plot.hist()"
   ]
  },
  {
   "cell_type": "code",
   "execution_count": 14,
   "id": "a5e5c61a",
   "metadata": {},
   "outputs": [
    {
     "name": "stdout",
     "output_type": "stream",
     "text": [
      "Total anomalies: 9274\n"
     ]
    }
   ],
   "source": [
    "test['DAYS_EMPLOYED_ANOM'] = test['DAYS_EMPLOYED'] == 365243\n",
    "test['DAYS_EMPLOYED'].replace({365243: np.nan}, inplace = True)\n",
    "print('Total anomalies: ' + str(test['DAYS_EMPLOYED_ANOM'].sum()))"
   ]
  },
  {
   "cell_type": "markdown",
   "id": "4a936d89",
   "metadata": {},
   "source": [
    "## 1.3 Binning Age Feature\n",
    "The DAYS_BIRTH data is in a very weird format = -(days since birth). We ignore the minus and bin the ages in 5 year intervals. Luckily the data given seems very normal and realistic - no outliers."
   ]
  },
  {
   "cell_type": "code",
   "execution_count": 16,
   "id": "cc69cfb3",
   "metadata": {},
   "outputs": [],
   "source": [
    "train['DAYS_BIRTH'] = -train['DAYS_BIRTH']"
   ]
  },
  {
   "cell_type": "code",
   "execution_count": 17,
   "id": "df6fddd6",
   "metadata": {},
   "outputs": [
    {
     "name": "stderr",
     "output_type": "stream",
     "text": [
      "C:\\Users\\csaba\\AppData\\Local\\Temp\\ipykernel_12032\\2017075975.py:2: SettingWithCopyWarning: \n",
      "A value is trying to be set on a copy of a slice from a DataFrame.\n",
      "Try using .loc[row_indexer,col_indexer] = value instead\n",
      "\n",
      "See the caveats in the documentation: https://pandas.pydata.org/pandas-docs/stable/user_guide/indexing.html#returning-a-view-versus-a-copy\n",
      "  age_data.loc[:, 'YEARS'] = age_data['DAYS_BIRTH'] / 365\n",
      "C:\\Users\\csaba\\AppData\\Local\\Temp\\ipykernel_12032\\2017075975.py:4: SettingWithCopyWarning: \n",
      "A value is trying to be set on a copy of a slice from a DataFrame.\n",
      "Try using .loc[row_indexer,col_indexer] = value instead\n",
      "\n",
      "See the caveats in the documentation: https://pandas.pydata.org/pandas-docs/stable/user_guide/indexing.html#returning-a-view-versus-a-copy\n",
      "  age_data.loc[:, 'YEARS_BINNED'] = pd.cut(age_data['YEARS'], bins = np.linspace(20, 70, num = 11))\n"
     ]
    },
    {
     "data": {
      "text/html": [
       "<div>\n",
       "<style scoped>\n",
       "    .dataframe tbody tr th:only-of-type {\n",
       "        vertical-align: middle;\n",
       "    }\n",
       "\n",
       "    .dataframe tbody tr th {\n",
       "        vertical-align: top;\n",
       "    }\n",
       "\n",
       "    .dataframe thead th {\n",
       "        text-align: right;\n",
       "    }\n",
       "</style>\n",
       "<table border=\"1\" class=\"dataframe\">\n",
       "  <thead>\n",
       "    <tr style=\"text-align: right;\">\n",
       "      <th></th>\n",
       "      <th>TARGET</th>\n",
       "      <th>DAYS_BIRTH</th>\n",
       "      <th>YEARS</th>\n",
       "      <th>YEARS_BINNED</th>\n",
       "    </tr>\n",
       "  </thead>\n",
       "  <tbody>\n",
       "    <tr>\n",
       "      <th>0</th>\n",
       "      <td>1</td>\n",
       "      <td>9461</td>\n",
       "      <td>25.920548</td>\n",
       "      <td>(25.0, 30.0]</td>\n",
       "    </tr>\n",
       "    <tr>\n",
       "      <th>1</th>\n",
       "      <td>0</td>\n",
       "      <td>16765</td>\n",
       "      <td>45.931507</td>\n",
       "      <td>(45.0, 50.0]</td>\n",
       "    </tr>\n",
       "    <tr>\n",
       "      <th>2</th>\n",
       "      <td>0</td>\n",
       "      <td>19046</td>\n",
       "      <td>52.180822</td>\n",
       "      <td>(50.0, 55.0]</td>\n",
       "    </tr>\n",
       "    <tr>\n",
       "      <th>3</th>\n",
       "      <td>0</td>\n",
       "      <td>19005</td>\n",
       "      <td>52.068493</td>\n",
       "      <td>(50.0, 55.0]</td>\n",
       "    </tr>\n",
       "    <tr>\n",
       "      <th>4</th>\n",
       "      <td>0</td>\n",
       "      <td>19932</td>\n",
       "      <td>54.608219</td>\n",
       "      <td>(50.0, 55.0]</td>\n",
       "    </tr>\n",
       "    <tr>\n",
       "      <th>...</th>\n",
       "      <td>...</td>\n",
       "      <td>...</td>\n",
       "      <td>...</td>\n",
       "      <td>...</td>\n",
       "    </tr>\n",
       "    <tr>\n",
       "      <th>307506</th>\n",
       "      <td>0</td>\n",
       "      <td>9327</td>\n",
       "      <td>25.553425</td>\n",
       "      <td>(25.0, 30.0]</td>\n",
       "    </tr>\n",
       "    <tr>\n",
       "      <th>307507</th>\n",
       "      <td>0</td>\n",
       "      <td>20775</td>\n",
       "      <td>56.917808</td>\n",
       "      <td>(55.0, 60.0]</td>\n",
       "    </tr>\n",
       "    <tr>\n",
       "      <th>307508</th>\n",
       "      <td>0</td>\n",
       "      <td>14966</td>\n",
       "      <td>41.002740</td>\n",
       "      <td>(40.0, 45.0]</td>\n",
       "    </tr>\n",
       "    <tr>\n",
       "      <th>307509</th>\n",
       "      <td>1</td>\n",
       "      <td>11961</td>\n",
       "      <td>32.769863</td>\n",
       "      <td>(30.0, 35.0]</td>\n",
       "    </tr>\n",
       "    <tr>\n",
       "      <th>307510</th>\n",
       "      <td>0</td>\n",
       "      <td>16856</td>\n",
       "      <td>46.180822</td>\n",
       "      <td>(45.0, 50.0]</td>\n",
       "    </tr>\n",
       "  </tbody>\n",
       "</table>\n",
       "<p>307511 rows × 4 columns</p>\n",
       "</div>"
      ],
      "text/plain": [
       "        TARGET  DAYS_BIRTH      YEARS  YEARS_BINNED\n",
       "0            1        9461  25.920548  (25.0, 30.0]\n",
       "1            0       16765  45.931507  (45.0, 50.0]\n",
       "2            0       19046  52.180822  (50.0, 55.0]\n",
       "3            0       19005  52.068493  (50.0, 55.0]\n",
       "4            0       19932  54.608219  (50.0, 55.0]\n",
       "...        ...         ...        ...           ...\n",
       "307506       0        9327  25.553425  (25.0, 30.0]\n",
       "307507       0       20775  56.917808  (55.0, 60.0]\n",
       "307508       0       14966  41.002740  (40.0, 45.0]\n",
       "307509       1       11961  32.769863  (30.0, 35.0]\n",
       "307510       0       16856  46.180822  (45.0, 50.0]\n",
       "\n",
       "[307511 rows x 4 columns]"
      ]
     },
     "execution_count": 17,
     "metadata": {},
     "output_type": "execute_result"
    }
   ],
   "source": [
    "age_data = train[[\"TARGET\", \"DAYS_BIRTH\"]]\n",
    "age_data.loc[:, 'YEARS'] = age_data['DAYS_BIRTH'] / 365\n",
    "\n",
    "age_data.loc[:, 'YEARS_BINNED'] = pd.cut(age_data['YEARS'], bins = np.linspace(20, 70, num = 11))\n",
    "age_data"
   ]
  },
  {
   "cell_type": "code",
   "execution_count": 18,
   "id": "ff2f6a1d",
   "metadata": {},
   "outputs": [],
   "source": [
    "age_groups = age_data.groupby('YEARS_BINNED').mean()"
   ]
  },
  {
   "cell_type": "code",
   "execution_count": 19,
   "id": "e9d7001c",
   "metadata": {
    "scrolled": true
   },
   "outputs": [
    {
     "data": {
      "image/png": "[encoded data removed]",
      "text/plain": [
       "<Figure size 432x288 with 1 Axes>"
      ]
     },
     "metadata": {
      "needs_background": "light"
     },
     "output_type": "display_data"
    }
   ],
   "source": [
    "plt.bar(age_groups.index.astype(str), 100*age_groups['TARGET']);\n",
    "plt.xticks(rotation=75);\n",
    "plt.xlabel('Age Group (years)');\n",
    "plt.ylabel('Failure to Repay (%)');\n",
    "plt.title('Failure to Repay by Age Group');"
   ]
  },
  {
   "cell_type": "markdown",
   "id": "287b7410",
   "metadata": {},
   "source": [
    "## 1.4 List of Strongest Correlations\n",
    "The basic motivation to check for some correlations. EXT_SOURCE_X variables seem to be features that were engineered from other features. They are also the strongest by far."
   ]
  },
  {
   "cell_type": "code",
   "execution_count": 15,
   "id": "68f903d3",
   "metadata": {},
   "outputs": [
    {
     "name": "stdout",
     "output_type": "stream",
     "text": [
      "Most positive corelations: \n",
      " OCCUPATION_TYPE_Laborers                             0.043019\n",
      "FLAG_DOCUMENT_3                                      0.044346\n",
      "REG_CITY_NOT_LIVE_CITY                               0.044395\n",
      "FLAG_EMP_PHONE                                       0.045982\n",
      "NAME_EDUCATION_TYPE_Secondary / secondary special    0.049824\n",
      "REG_CITY_NOT_WORK_CITY                               0.050994\n",
      "DAYS_ID_PUBLISH                                      0.051457\n",
      "CODE_GENDER_M                                        0.054713\n",
      "DAYS_LAST_PHONE_CHANGE                               0.055218\n",
      "NAME_INCOME_TYPE_Working                             0.057481\n",
      "REGION_RATING_CLIENT                                 0.058899\n",
      "REGION_RATING_CLIENT_W_CITY                          0.060893\n",
      "DAYS_EMPLOYED                                        0.074958\n",
      "DAYS_BIRTH                                           0.078239\n",
      "TARGET                                               1.000000\n",
      "Name: TARGET, dtype: float64\n",
      "Most negative corelations: \n",
      " EXT_SOURCE_3                           -0.178919\n",
      "EXT_SOURCE_2                           -0.160472\n",
      "EXT_SOURCE_1                           -0.155317\n",
      "NAME_EDUCATION_TYPE_Higher education   -0.056593\n",
      "CODE_GENDER_F                          -0.054704\n",
      "NAME_INCOME_TYPE_Pensioner             -0.046209\n",
      "DAYS_EMPLOYED_ANOM                     -0.045987\n",
      "ORGANIZATION_TYPE_XNA                  -0.045987\n",
      "FLOORSMAX_AVG                          -0.044003\n",
      "FLOORSMAX_MEDI                         -0.043768\n",
      "FLOORSMAX_MODE                         -0.043226\n",
      "EMERGENCYSTATE_MODE_No                 -0.042201\n",
      "HOUSETYPE_MODE_block of flats          -0.040594\n",
      "AMT_GOODS_PRICE                        -0.039645\n",
      "REGION_POPULATION_RELATIVE             -0.037227\n",
      "Name: TARGET, dtype: float64\n"
     ]
    }
   ],
   "source": [
    "correlations = train.corr()[\"TARGET\"].sort_values()\n",
    "\n",
    "print('Most positive corelations: \\n', correlations.tail(15))\n",
    "print('Most negative corelations: \\n', correlations.head(15))"
   ]
  },
  {
   "cell_type": "markdown",
   "id": "b53bbb8c",
   "metadata": {},
   "source": [
    "## 1.4.1 PolynomialFeatures on Strongeset Correlations\n",
    "We create polynomial features from the most important features from the above list. We can't yet tell if they will be useful. Only creating models can give us that answer."
   ]
  },
  {
   "cell_type": "code",
   "execution_count": 20,
   "id": "0e3f1b92",
   "metadata": {},
   "outputs": [],
   "source": [
    "poly_features = train[['EXT_SOURCE_1','EXT_SOURCE_2','EXT_SOURCE_3','DAYS_BIRTH']]\n",
    "\n",
    "poly_features_test = test[['EXT_SOURCE_1','EXT_SOURCE_2','EXT_SOURCE_3','DAYS_BIRTH']]\n",
    "\n",
    "imputer = SimpleImputer(strategy = 'median')\n",
    "poly_features = imputer.fit_transform(poly_features)\n",
    "poly_features_test = imputer.transform(poly_features_test)"
   ]
  },
  {
   "cell_type": "code",
   "execution_count": 21,
   "id": "43e3c1a2",
   "metadata": {},
   "outputs": [],
   "source": [
    "poly_transformer = PolynomialFeatures(degree = 3)\n",
    "poly_transformer.fit(poly_features)\n",
    "\n",
    "poly_features = poly_transformer.transform(poly_features)\n",
    "poly_features_test = poly_transformer.transform(poly_features_test)"
   ]
  },
  {
   "cell_type": "code",
   "execution_count": 22,
   "id": "f8a58a40",
   "metadata": {},
   "outputs": [
    {
     "name": "stderr",
     "output_type": "stream",
     "text": [
      "C:\\ProgramData\\Anaconda3\\lib\\site-packages\\sklearn\\utils\\deprecation.py:87: FutureWarning: Function get_feature_names is deprecated; get_feature_names is deprecated in 1.0 and will be removed in 1.2. Please use get_feature_names_out instead.\n",
      "  warnings.warn(msg, category=FutureWarning)\n"
     ]
    },
    {
     "data": {
      "text/plain": [
       "EXT_SOURCE_2 EXT_SOURCE_3                -0.193939\n",
       "EXT_SOURCE_1 EXT_SOURCE_2 EXT_SOURCE_3   -0.189605\n",
       "EXT_SOURCE_2 EXT_SOURCE_3 DAYS_BIRTH     -0.181283\n",
       "EXT_SOURCE_2^2 EXT_SOURCE_3              -0.176428\n",
       "EXT_SOURCE_2 EXT_SOURCE_3^2              -0.172282\n",
       "EXT_SOURCE_1 EXT_SOURCE_2                -0.166625\n",
       "EXT_SOURCE_1 EXT_SOURCE_3                -0.164065\n",
       "EXT_SOURCE_2                             -0.160295\n",
       "EXT_SOURCE_2 DAYS_BIRTH                  -0.156873\n",
       "EXT_SOURCE_1 EXT_SOURCE_2^2              -0.156867\n",
       "EXT_SOURCE_3                             -0.155892\n",
       "EXT_SOURCE_1 EXT_SOURCE_2 DAYS_BIRTH     -0.155891\n",
       "EXT_SOURCE_1 EXT_SOURCE_3 DAYS_BIRTH     -0.151816\n",
       "EXT_SOURCE_1 EXT_SOURCE_3^2              -0.150822\n",
       "EXT_SOURCE_3 DAYS_BIRTH                  -0.150109\n",
       "EXT_SOURCE_2^2                           -0.149512\n",
       "EXT_SOURCE_2^2 DAYS_BIRTH                -0.149313\n",
       "EXT_SOURCE_3^2 DAYS_BIRTH                -0.141777\n",
       "EXT_SOURCE_3^2                           -0.141662\n",
       "EXT_SOURCE_2^3                           -0.140243\n",
       "EXT_SOURCE_1^2 EXT_SOURCE_2              -0.140185\n",
       "EXT_SOURCE_1^2 EXT_SOURCE_3              -0.138846\n",
       "EXT_SOURCE_2 DAYS_BIRTH^2                -0.132839\n",
       "EXT_SOURCE_3^3                           -0.128213\n",
       "EXT_SOURCE_3 DAYS_BIRTH^2                -0.126950\n",
       "EXT_SOURCE_1 DAYS_BIRTH                  -0.104882\n",
       "EXT_SOURCE_1                             -0.098887\n",
       "EXT_SOURCE_1^2 DAYS_BIRTH                -0.097507\n",
       "EXT_SOURCE_1 DAYS_BIRTH^2                -0.094913\n",
       "EXT_SOURCE_1^2                           -0.091034\n",
       "EXT_SOURCE_1^3                           -0.083005\n",
       "DAYS_BIRTH                               -0.078239\n",
       "DAYS_BIRTH^2                             -0.076672\n",
       "DAYS_BIRTH^3                             -0.074273\n",
       "TARGET                                    1.000000\n",
       "1                                              NaN\n",
       "Name: TARGET, dtype: float64"
      ]
     },
     "execution_count": 22,
     "metadata": {},
     "output_type": "execute_result"
    }
   ],
   "source": [
    "names = poly_transformer.get_feature_names(['EXT_SOURCE_1', 'EXT_SOURCE_2', 'EXT_SOURCE_3', 'DAYS_BIRTH'])\n",
    "poly_features = pd.DataFrame(poly_features, columns = names)\n",
    "poly_features_test = pd.DataFrame(poly_features_test, columns = names)\n",
    "poly_features['TARGET'] = train['TARGET']\n",
    "poly_features.corr()['TARGET'].sort_values()"
   ]
  },
  {
   "cell_type": "code",
   "execution_count": 23,
   "id": "d6c49ccf",
   "metadata": {},
   "outputs": [],
   "source": [
    "poly_features[\"SK_ID_CURR\"] = train[\"SK_ID_CURR\"]\n",
    "poly_features_test[\"SK_ID_CURR\"] = test[\"SK_ID_CURR\"]\n",
    "\n",
    "train_poly = train.merge(poly_features, on = 'SK_ID_CURR', how = 'left')\n",
    "test_poly = test.merge(poly_features_test, on = 'SK_ID_CURR', how = 'left')\n",
    "\n",
    "train_poly, test_poly = train_poly.align(test_poly, join = 'inner', axis = 1)"
   ]
  },
  {
   "cell_type": "markdown",
   "id": "3a0b1e95",
   "metadata": {},
   "source": [
    "#### Creating Features"
   ]
  },
  {
   "cell_type": "code",
   "execution_count": 24,
   "id": "eccdb19e",
   "metadata": {},
   "outputs": [],
   "source": [
    "train_domain = train.copy()\n",
    "test_domain = test.copy()\n",
    "\n",
    "train_domain['CREDIT_INCOME_PERCENT'] = train_domain['AMT_CREDIT'] / train_domain['AMT_INCOME_TOTAL']\n",
    "train_domain['ANNUITY_INCOME_PERCENT'] = train_domain['AMT_ANNUITY'] / train_domain['AMT_INCOME_TOTAL']\n",
    "train_domain['CREDIT_TERM'] = train_domain['AMT_ANNUITY'] / train_domain['AMT_CREDIT']\n",
    "train_domain['DAYS_EMPLOYED_PERCENT'] = train_domain['DAYS_EMPLOYED'] / train_domain['DAYS_BIRTH']\n",
    "\n",
    "test_domain['CREDIT_INCOME_PERCENT'] = test_domain['AMT_CREDIT'] / test_domain['AMT_INCOME_TOTAL']\n",
    "test_domain['ANNUITY_INCOME_PERCENT'] = test_domain['AMT_ANNUITY'] / test_domain['AMT_INCOME_TOTAL']\n",
    "test_domain['CREDIT_TERM'] = test_domain['AMT_ANNUITY'] / test_domain['AMT_CREDIT']\n",
    "test_domain['DAYS_EMPLOYED_PERCENT'] = test_domain['DAYS_EMPLOYED'] / test_domain['DAYS_BIRTH']"
   ]
  },
  {
   "cell_type": "code",
   "execution_count": 25,
   "id": "f3ba6598",
   "metadata": {},
   "outputs": [
    {
     "data": {
      "image/png": "[encoded data removed]",
      "text/plain": [
       "<Figure size 864x1440 with 4 Axes>"
      ]
     },
     "metadata": {
      "needs_background": "light"
     },
     "output_type": "display_data"
    }
   ],
   "source": [
    "plt.figure(figsize=(12,20))\n",
    "l = ['CREDIT_INCOME_PERCENT', 'ANNUITY_INCOME_PERCENT', 'CREDIT_TERM', 'DAYS_EMPLOYED_PERCENT']\n",
    "\n",
    "for i, feature in enumerate(l):\n",
    "    plt.subplot(len(l), 1, i+1)\n",
    "    \n",
    "    sns.kdeplot(train_domain.loc[train_domain['TARGET']==0, feature], label = 'target == 0')\n",
    "    sns.kdeplot(train_domain.loc[train_domain['TARGET']==1, feature], label = 'target == 1')\n",
    "    plt.xlabel(feature)"
   ]
  },
  {
   "cell_type": "markdown",
   "id": "bb166de9",
   "metadata": {},
   "source": [
    "# 2. Functions for Aggregation"
   ]
  },
  {
   "cell_type": "markdown",
   "id": "fb6e2486",
   "metadata": {},
   "source": [
    "## 2.1 Numerical Columns\n",
    "We choose our numerical columns, group them up by IDs and calculate group means, maxes, mins and counts."
   ]
  },
  {
   "cell_type": "code",
   "execution_count": 27,
   "id": "3f6ba62a",
   "metadata": {},
   "outputs": [],
   "source": [
    "def agg_numeric(df, group_var, df_name):\n",
    "    for col in df:\n",
    "        if col != group_var and 'SK_ID' in col:\n",
    "            df = df.drop(columns = col)\n",
    "            \n",
    "    group_ids = df[group_var]\n",
    "    numeric_df = df.select_dtypes('number')\n",
    "    numeric_df[group_var] = group_ids\n",
    "    \n",
    "    agg = numeric_df.groupby(group_var).agg(['count', 'mean', 'max', 'min', 'sum']).reset_index()\n",
    "    \n",
    "    columns = [group_var]\n",
    "    for var in agg.columns.levels[0]:\n",
    "        if var != group_var:\n",
    "            for stat in agg.columns.levels[1][:-1]:\n",
    "                columns.append('%s_%s_%s' % (df_name,var, stat))\n",
    "    agg.columns = columns\n",
    "    \n",
    "    return agg"
   ]
  },
  {
   "cell_type": "markdown",
   "id": "8eb8667b",
   "metadata": {},
   "source": [
    "## 2.2 Categorical Columns\n",
    "We create dummies of categorical features, group them up by IDs and assign the sums and means of the groups."
   ]
  },
  {
   "cell_type": "code",
   "execution_count": 28,
   "id": "6f545203",
   "metadata": {},
   "outputs": [],
   "source": [
    "def count_categorical(df, group_var, df_name):\n",
    "    categorical = pd.get_dummies(df.select_dtypes('object'))\n",
    "    \n",
    "    categorical[group_var] = df[group_var]\n",
    "    categorical = categorical.groupby(group_var).agg(['sum', 'mean'])\n",
    "    \n",
    "    column_names = []\n",
    "    \n",
    "    for var in categorical.columns.levels[0]:\n",
    "        for stat in ['count', 'count_norm']:\n",
    "            column_names.append('%s_%s_%s' % (df_name, var, stat))\n",
    "            \n",
    "    categorical.columns = column_names\n",
    "    \n",
    "    return categorical"
   ]
  },
  {
   "cell_type": "markdown",
   "id": "3fac4820",
   "metadata": {},
   "source": [
    "## 2.3 TARGET == 0/1 Kernel Density Estimation\n",
    "We will be frequently plotting and searching for features that are correlated with the TARGET variable"
   ]
  },
  {
   "cell_type": "code",
   "execution_count": 26,
   "id": "091f8435",
   "metadata": {},
   "outputs": [],
   "source": [
    "def kde_target(var_name, df):\n",
    "    corr = df['TARGET'].corr(df[var_name])\n",
    "    \n",
    "    plt.figure(figsize = (12, 6))\n",
    "    \n",
    "    sns.kdeplot(df.loc[df['TARGET'] == 0, var_name], label = 'TARGET == 0')\n",
    "    sns.kdeplot(df.loc[df['TARGET'] == 1, var_name], label = 'TARGET == 1')\n",
    "    plt.legend()\n",
    "    print('The correlation between %s and the TARGET is %0.4f' % (var_name, corr))"
   ]
  },
  {
   "cell_type": "markdown",
   "id": "9376233a",
   "metadata": {},
   "source": [
    "# 3. Feature Engineering - bureau\n",
    "We aggregate categorical and numerical features and merge it to the train and test datasets. "
   ]
  },
  {
   "cell_type": "code",
   "execution_count": 29,
   "id": "33230113",
   "metadata": {},
   "outputs": [],
   "source": [
    "bureau = pd.read_csv('bureau.csv')\n",
    "bureau_balance = pd.read_csv('bureau_balance.csv')\n",
    "bureau_counts = count_categorical(bureau, group_var = 'SK_ID_CURR', df_name = 'bureau')"
   ]
  },
  {
   "cell_type": "code",
   "execution_count": 30,
   "id": "387931d7",
   "metadata": {},
   "outputs": [],
   "source": [
    "bureau_agg = agg_numeric(bureau.drop(columns = ['SK_ID_BUREAU']), 'SK_ID_CURR', 'bureau')\n",
    "bureau_balance_counts = count_categorical(bureau_balance, 'SK_ID_BUREAU', 'bureau_balance')\n",
    "bureau_balance_agg = agg_numeric(bureau_balance, 'SK_ID_BUREAU', 'bureau_balance')\n",
    "\n",
    "bureau_by_loan = bureau_balance_agg.merge(bureau_balance_counts, right_index = True, left_on = 'SK_ID_BUREAU', how = 'outer')\n",
    "bureau_by_loan = bureau[['SK_ID_BUREAU', 'SK_ID_CURR']].merge(bureau_by_loan, on = 'SK_ID_BUREAU', how = 'left')\n",
    "\n",
    "bureau_balance_by_client = agg_numeric(bureau_by_loan.drop(columns = ['SK_ID_BUREAU']), 'SK_ID_CURR', 'client')\n",
    "\n",
    "for dataset in [bureau_counts, bureau_agg, bureau_balance_by_client]:\n",
    "    train = train.merge(dataset, on ='SK_ID_CURR', how = 'left')"
   ]
  },
  {
   "cell_type": "code",
   "execution_count": 31,
   "id": "c1e4395f",
   "metadata": {},
   "outputs": [
    {
     "data": {
      "text/plain": [
       "(307511, 452)"
      ]
     },
     "execution_count": 31,
     "metadata": {},
     "output_type": "execute_result"
    }
   ],
   "source": [
    "train.shape"
   ]
  },
  {
   "cell_type": "code",
   "execution_count": 32,
   "id": "2cc28457",
   "metadata": {},
   "outputs": [
    {
     "data": {
      "text/html": [
       "<div>\n",
       "<style scoped>\n",
       "    .dataframe tbody tr th:only-of-type {\n",
       "        vertical-align: middle;\n",
       "    }\n",
       "\n",
       "    .dataframe tbody tr th {\n",
       "        vertical-align: top;\n",
       "    }\n",
       "\n",
       "    .dataframe thead th {\n",
       "        text-align: right;\n",
       "    }\n",
       "</style>\n",
       "<table border=\"1\" class=\"dataframe\">\n",
       "  <thead>\n",
       "    <tr style=\"text-align: right;\">\n",
       "      <th></th>\n",
       "      <th>Missing Values</th>\n",
       "      <th>% of Total Values</th>\n",
       "    </tr>\n",
       "  </thead>\n",
       "  <tbody>\n",
       "    <tr>\n",
       "      <th>bureau_AMT_ANNUITY_min</th>\n",
       "      <td>227502</td>\n",
       "      <td>73.981744</td>\n",
       "    </tr>\n",
       "    <tr>\n",
       "      <th>bureau_AMT_ANNUITY_max</th>\n",
       "      <td>227502</td>\n",
       "      <td>73.981744</td>\n",
       "    </tr>\n",
       "    <tr>\n",
       "      <th>bureau_AMT_ANNUITY_mean</th>\n",
       "      <td>227502</td>\n",
       "      <td>73.981744</td>\n",
       "    </tr>\n",
       "    <tr>\n",
       "      <th>client_bureau_balance_STATUS_4_count_mean</th>\n",
       "      <td>215280</td>\n",
       "      <td>70.007252</td>\n",
       "    </tr>\n",
       "    <tr>\n",
       "      <th>client_bureau_balance_STATUS_3_count_max</th>\n",
       "      <td>215280</td>\n",
       "      <td>70.007252</td>\n",
       "    </tr>\n",
       "    <tr>\n",
       "      <th>...</th>\n",
       "      <td>...</td>\n",
       "      <td>...</td>\n",
       "    </tr>\n",
       "    <tr>\n",
       "      <th>EXT_SOURCE_2</th>\n",
       "      <td>660</td>\n",
       "      <td>0.214626</td>\n",
       "    </tr>\n",
       "    <tr>\n",
       "      <th>AMT_GOODS_PRICE</th>\n",
       "      <td>278</td>\n",
       "      <td>0.090403</td>\n",
       "    </tr>\n",
       "    <tr>\n",
       "      <th>AMT_ANNUITY</th>\n",
       "      <td>12</td>\n",
       "      <td>0.003902</td>\n",
       "    </tr>\n",
       "    <tr>\n",
       "      <th>CNT_FAM_MEMBERS</th>\n",
       "      <td>2</td>\n",
       "      <td>0.000650</td>\n",
       "    </tr>\n",
       "    <tr>\n",
       "      <th>DAYS_LAST_PHONE_CHANGE</th>\n",
       "      <td>1</td>\n",
       "      <td>0.000325</td>\n",
       "    </tr>\n",
       "  </tbody>\n",
       "</table>\n",
       "<p>273 rows × 2 columns</p>\n",
       "</div>"
      ],
      "text/plain": [
       "                                           Missing Values  % of Total Values\n",
       "bureau_AMT_ANNUITY_min                             227502          73.981744\n",
       "bureau_AMT_ANNUITY_max                             227502          73.981744\n",
       "bureau_AMT_ANNUITY_mean                            227502          73.981744\n",
       "client_bureau_balance_STATUS_4_count_mean          215280          70.007252\n",
       "client_bureau_balance_STATUS_3_count_max           215280          70.007252\n",
       "...                                                   ...                ...\n",
       "EXT_SOURCE_2                                          660           0.214626\n",
       "AMT_GOODS_PRICE                                       278           0.090403\n",
       "AMT_ANNUITY                                            12           0.003902\n",
       "CNT_FAM_MEMBERS                                         2           0.000650\n",
       "DAYS_LAST_PHONE_CHANGE                                  1           0.000325\n",
       "\n",
       "[273 rows x 2 columns]"
      ]
     },
     "execution_count": 32,
     "metadata": {},
     "output_type": "execute_result"
    }
   ],
   "source": [
    "mis_val = train.isna().sum()[train.isna().sum()!=0]\n",
    "mis_val_perc = 100 * mis_val / len(train)\n",
    "mis_val_table = pd.concat([mis_val, mis_val_perc], axis = 1)\n",
    "\n",
    "\n",
    "mis_val_table = mis_val_table.rename(\n",
    "        columns = {0 : 'Missing Values', 1 : '% of Total Values'})\n",
    "mis_val_table.sort_values(by = 'Missing Values', ascending = False)"
   ]
  },
  {
   "cell_type": "code",
   "execution_count": 33,
   "id": "c710b118",
   "metadata": {},
   "outputs": [],
   "source": [
    "test = test.merge(bureau_counts, on='SK_ID_CURR', how = 'left')\n",
    "test = test.merge(bureau_agg, on='SK_ID_CURR', how = 'left')\n",
    "test = test.merge(bureau_balance_by_client, on='SK_ID_CURR', how = 'left')"
   ]
  },
  {
   "cell_type": "code",
   "execution_count": 34,
   "id": "18514e1e",
   "metadata": {},
   "outputs": [],
   "source": [
    "train_labels = train['TARGET']\n",
    "\n",
    "train, test = train.align(test, join = 'inner', axis = 1)\n",
    "train['TARGET'] = train_labels"
   ]
  },
  {
   "cell_type": "code",
   "execution_count": 37,
   "id": "3a0a025b",
   "metadata": {},
   "outputs": [],
   "source": [
    "train.to_csv('train_1.csv', index = False)\n",
    "test.to_csv('test_1.csv', index = False)"
   ]
  },
  {
   "cell_type": "code",
   "execution_count": 38,
   "id": "e7f08536",
   "metadata": {},
   "outputs": [
    {
     "data": {
      "text/html": [
       "<div>\n",
       "<style scoped>\n",
       "    .dataframe tbody tr th:only-of-type {\n",
       "        vertical-align: middle;\n",
       "    }\n",
       "\n",
       "    .dataframe tbody tr th {\n",
       "        vertical-align: top;\n",
       "    }\n",
       "\n",
       "    .dataframe thead th {\n",
       "        text-align: right;\n",
       "    }\n",
       "</style>\n",
       "<table border=\"1\" class=\"dataframe\">\n",
       "  <thead>\n",
       "    <tr style=\"text-align: right;\">\n",
       "      <th></th>\n",
       "      <th>TARGET</th>\n",
       "    </tr>\n",
       "  </thead>\n",
       "  <tbody>\n",
       "    <tr>\n",
       "      <th>TARGET</th>\n",
       "      <td>1.000000</td>\n",
       "    </tr>\n",
       "    <tr>\n",
       "      <th>bureau_DAYS_CREDIT_mean</th>\n",
       "      <td>0.089729</td>\n",
       "    </tr>\n",
       "    <tr>\n",
       "      <th>client_bureau_balance_MONTHS_BALANCE_min_mean</th>\n",
       "      <td>0.089038</td>\n",
       "    </tr>\n",
       "    <tr>\n",
       "      <th>bureau_CREDIT_ACTIVE_Active_count_norm</th>\n",
       "      <td>0.077356</td>\n",
       "    </tr>\n",
       "    <tr>\n",
       "      <th>client_bureau_balance_MONTHS_BALANCE_mean_mean</th>\n",
       "      <td>0.076424</td>\n",
       "    </tr>\n",
       "    <tr>\n",
       "      <th>bureau_DAYS_CREDIT_min</th>\n",
       "      <td>0.075248</td>\n",
       "    </tr>\n",
       "    <tr>\n",
       "      <th>DAYS_EMPLOYED</th>\n",
       "      <td>0.074958</td>\n",
       "    </tr>\n",
       "    <tr>\n",
       "      <th>client_bureau_balance_MONTHS_BALANCE_min_min</th>\n",
       "      <td>0.073225</td>\n",
       "    </tr>\n",
       "    <tr>\n",
       "      <th>client_bureau_balance_MONTHS_BALANCE_sum_mean</th>\n",
       "      <td>0.072606</td>\n",
       "    </tr>\n",
       "    <tr>\n",
       "      <th>bureau_DAYS_CREDIT_UPDATE_mean</th>\n",
       "      <td>0.068927</td>\n",
       "    </tr>\n",
       "  </tbody>\n",
       "</table>\n",
       "</div>"
      ],
      "text/plain": [
       "                                                  TARGET\n",
       "TARGET                                          1.000000\n",
       "bureau_DAYS_CREDIT_mean                         0.089729\n",
       "client_bureau_balance_MONTHS_BALANCE_min_mean   0.089038\n",
       "bureau_CREDIT_ACTIVE_Active_count_norm          0.077356\n",
       "client_bureau_balance_MONTHS_BALANCE_mean_mean  0.076424\n",
       "bureau_DAYS_CREDIT_min                          0.075248\n",
       "DAYS_EMPLOYED                                   0.074958\n",
       "client_bureau_balance_MONTHS_BALANCE_min_min    0.073225\n",
       "client_bureau_balance_MONTHS_BALANCE_sum_mean   0.072606\n",
       "bureau_DAYS_CREDIT_UPDATE_mean                  0.068927"
      ]
     },
     "execution_count": 38,
     "metadata": {},
     "output_type": "execute_result"
    }
   ],
   "source": [
    "## Correlations\n",
    "\n",
    "corrs = train.corr()\n",
    "corrs = corrs.sort_values('TARGET', ascending = False)\n",
    "pd.DataFrame(corrs['TARGET'].head(10))"
   ]
  },
  {
   "cell_type": "code",
   "execution_count": 39,
   "id": "72e12bc9",
   "metadata": {},
   "outputs": [
    {
     "data": {
      "text/html": [
       "<div>\n",
       "<style scoped>\n",
       "    .dataframe tbody tr th:only-of-type {\n",
       "        vertical-align: middle;\n",
       "    }\n",
       "\n",
       "    .dataframe tbody tr th {\n",
       "        vertical-align: top;\n",
       "    }\n",
       "\n",
       "    .dataframe thead th {\n",
       "        text-align: right;\n",
       "    }\n",
       "</style>\n",
       "<table border=\"1\" class=\"dataframe\">\n",
       "  <thead>\n",
       "    <tr style=\"text-align: right;\">\n",
       "      <th></th>\n",
       "      <th>TARGET</th>\n",
       "    </tr>\n",
       "  </thead>\n",
       "  <tbody>\n",
       "    <tr>\n",
       "      <th>NAME_EDUCATION_TYPE_Higher education</th>\n",
       "      <td>-0.056593</td>\n",
       "    </tr>\n",
       "    <tr>\n",
       "      <th>client_bureau_balance_STATUS_C_count_max</th>\n",
       "      <td>-0.061083</td>\n",
       "    </tr>\n",
       "    <tr>\n",
       "      <th>client_bureau_balance_STATUS_C_count_mean</th>\n",
       "      <td>-0.062954</td>\n",
       "    </tr>\n",
       "    <tr>\n",
       "      <th>client_bureau_balance_MONTHS_BALANCE_count_max</th>\n",
       "      <td>-0.068792</td>\n",
       "    </tr>\n",
       "    <tr>\n",
       "      <th>DAYS_BIRTH</th>\n",
       "      <td>-0.078239</td>\n",
       "    </tr>\n",
       "    <tr>\n",
       "      <th>bureau_CREDIT_ACTIVE_Closed_count_norm</th>\n",
       "      <td>-0.079369</td>\n",
       "    </tr>\n",
       "    <tr>\n",
       "      <th>client_bureau_balance_MONTHS_BALANCE_count_mean</th>\n",
       "      <td>-0.080193</td>\n",
       "    </tr>\n",
       "    <tr>\n",
       "      <th>EXT_SOURCE_1</th>\n",
       "      <td>-0.155317</td>\n",
       "    </tr>\n",
       "    <tr>\n",
       "      <th>EXT_SOURCE_2</th>\n",
       "      <td>-0.160472</td>\n",
       "    </tr>\n",
       "    <tr>\n",
       "      <th>EXT_SOURCE_3</th>\n",
       "      <td>-0.178919</td>\n",
       "    </tr>\n",
       "  </tbody>\n",
       "</table>\n",
       "</div>"
      ],
      "text/plain": [
       "                                                   TARGET\n",
       "NAME_EDUCATION_TYPE_Higher education            -0.056593\n",
       "client_bureau_balance_STATUS_C_count_max        -0.061083\n",
       "client_bureau_balance_STATUS_C_count_mean       -0.062954\n",
       "client_bureau_balance_MONTHS_BALANCE_count_max  -0.068792\n",
       "DAYS_BIRTH                                      -0.078239\n",
       "bureau_CREDIT_ACTIVE_Closed_count_norm          -0.079369\n",
       "client_bureau_balance_MONTHS_BALANCE_count_mean -0.080193\n",
       "EXT_SOURCE_1                                    -0.155317\n",
       "EXT_SOURCE_2                                    -0.160472\n",
       "EXT_SOURCE_3                                    -0.178919"
      ]
     },
     "execution_count": 39,
     "metadata": {},
     "output_type": "execute_result"
    }
   ],
   "source": [
    "pd.DataFrame(corrs['TARGET'].dropna().tail(10))"
   ]
  },
  {
   "cell_type": "markdown",
   "id": "b26958d5",
   "metadata": {},
   "source": [
    "Below we find a function for removing features with the amount of missing values above a certain threshold."
   ]
  },
  {
   "cell_type": "code",
   "execution_count": 41,
   "id": "d3fb9ab6",
   "metadata": {},
   "outputs": [],
   "source": [
    "threshold = 0.8\n",
    "\n",
    "above_threshold_vars = {}\n",
    "\n",
    "for col in corrs:\n",
    "    above_threshold_vars[col] = list(corrs.index[corrs[col] >threshold])"
   ]
  },
  {
   "cell_type": "code",
   "execution_count": 43,
   "id": "e1e5ed74",
   "metadata": {},
   "outputs": [
    {
     "name": "stdout",
     "output_type": "stream",
     "text": [
      "137\n"
     ]
    }
   ],
   "source": [
    "cols_to_remove = []\n",
    "cols_seen = []\n",
    "cols_to_remove_pair = []\n",
    "\n",
    "for key, value in above_threshold_vars.items():\n",
    "    cols_seen.append(key)\n",
    "    for x in value:\n",
    "        if x == key:\n",
    "            next\n",
    "        else:\n",
    "            if x not in cols_seen:\n",
    "                cols_to_remove.append(x)\n",
    "                cols_to_remove_pair.append(key)\n",
    "                \n",
    "                \n",
    "cols_to_remove = list(set(cols_to_remove))\n",
    "print(len(cols_to_remove))"
   ]
  },
  {
   "cell_type": "code",
   "execution_count": null,
   "id": "9456ec7a",
   "metadata": {},
   "outputs": [],
   "source": []
  }
 ],
 "metadata": {
  "kernelspec": {
   "display_name": "Python 3 (ipykernel)",
   "language": "python",
   "name": "python3"
  },
  "language_info": {
   "codemirror_mode": {
    "name": "ipython",
    "version": 3
   },
   "file_extension": ".py",
   "mimetype": "text/x-python",
   "name": "python",
   "nbconvert_exporter": "python",
   "pygments_lexer": "ipython3",
   "version": "3.9.12"
  }
 },
 "nbformat": 4,
 "nbformat_minor": 5
}
